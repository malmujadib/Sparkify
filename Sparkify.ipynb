{
 "cells": [
  {
   "cell_type": "markdown",
   "metadata": {},
   "source": [
    "# Sparkify Project Workspace\n",
    "This workspace contains a tiny subset (128MB) of the full dataset available (12GB). Feel free to use this workspace to build your project, or to explore a smaller subset with Spark before deploying your cluster on the cloud. Instructions for setting up your Spark cluster is included in the last lesson of the Extracurricular Spark Course content.\n",
    "\n",
    "You can follow the steps below to guide your data analysis and model building portion of this project."
   ]
  },
  {
   "cell_type": "code",
   "execution_count": 1,
   "metadata": {},
   "outputs": [],
   "source": [
    "# import libraries\n",
    "import pandas as pd\n",
    "import numpy as np\n",
    "import matplotlib.pyplot as plt\n",
    "import seaborn as sns\n",
    "import datetime \n",
    "%matplotlib inline\n",
    "\n",
    "from pyspark.sql import SparkSession\n",
    "from pyspark.sql.functions import udf, desc, sum as Fsum, avg, count, max as Fmax, min, col, last, regexp_extract\n",
    "from pyspark.sql.types import IntegerType\n",
    "from pyspark.sql import Window\n",
    "from pyspark.ml.feature import VectorAssembler, Normalizer\n",
    "from pyspark.ml.classification import LogisticRegression, GBTClassifier, RandomForestClassifier, MultilayerPerceptronClassifier\n",
    "from pyspark.ml.tuning import ParamGridBuilder, CrossValidator\n",
    "from pyspark.ml import Pipeline\n",
    "from pyspark.ml.evaluation import MulticlassClassificationEvaluator"
   ]
  },
  {
   "cell_type": "code",
   "execution_count": 2,
   "metadata": {},
   "outputs": [],
   "source": [
    "# create a Spark session\n",
    "spark = SparkSession \\\n",
    "    .builder \\\n",
    "    .appName(\"Sparkify\") \\\n",
    "    .getOrCreate()"
   ]
  },
  {
   "cell_type": "code",
   "execution_count": 3,
   "metadata": {},
   "outputs": [
    {
     "data": {
      "text/html": [
       "\n",
       "            <div>\n",
       "                <p><b>SparkSession - in-memory</b></p>\n",
       "                \n",
       "        <div>\n",
       "            <p><b>SparkContext</b></p>\n",
       "\n",
       "            <p><a href=\"http://192.168.100.60:4040\">Spark UI</a></p>\n",
       "\n",
       "            <dl>\n",
       "              <dt>Version</dt>\n",
       "                <dd><code>v2.4.0</code></dd>\n",
       "              <dt>Master</dt>\n",
       "                <dd><code>local[*]</code></dd>\n",
       "              <dt>AppName</dt>\n",
       "                <dd><code>Sparkify</code></dd>\n",
       "            </dl>\n",
       "        </div>\n",
       "        \n",
       "            </div>\n",
       "        "
      ],
      "text/plain": [
       "<pyspark.sql.session.SparkSession at 0x7fc3d9480350>"
      ]
     },
     "execution_count": 3,
     "metadata": {},
     "output_type": "execute_result"
    }
   ],
   "source": [
    "spark"
   ]
  },
  {
   "cell_type": "markdown",
   "metadata": {},
   "source": [
    "# Load and Clean Dataset\n",
    "In this workspace, the mini-dataset file is `mini_sparkify_event_data.json`. Load and clean the dataset, checking for invalid or missing data - for example, records without userids or sessionids. "
   ]
  },
  {
   "cell_type": "code",
   "execution_count": 4,
   "metadata": {},
   "outputs": [],
   "source": [
    "#choose the mini dataset\n",
    "event_data = \"mini_sparkify_event_data.json\""
   ]
  },
  {
   "cell_type": "code",
   "execution_count": 5,
   "metadata": {
    "scrolled": true
   },
   "outputs": [
    {
     "name": "stdout",
     "output_type": "stream",
     "text": [
      "root\n",
      " |-- artist: string (nullable = true)\n",
      " |-- auth: string (nullable = true)\n",
      " |-- firstName: string (nullable = true)\n",
      " |-- gender: string (nullable = true)\n",
      " |-- itemInSession: long (nullable = true)\n",
      " |-- lastName: string (nullable = true)\n",
      " |-- length: double (nullable = true)\n",
      " |-- level: string (nullable = true)\n",
      " |-- location: string (nullable = true)\n",
      " |-- method: string (nullable = true)\n",
      " |-- page: string (nullable = true)\n",
      " |-- registration: long (nullable = true)\n",
      " |-- sessionId: long (nullable = true)\n",
      " |-- song: string (nullable = true)\n",
      " |-- status: long (nullable = true)\n",
      " |-- ts: long (nullable = true)\n",
      " |-- userAgent: string (nullable = true)\n",
      " |-- userId: string (nullable = true)\n",
      "\n"
     ]
    }
   ],
   "source": [
    "# load the data into spark\n",
    "df = spark.read.json(event_data)\n",
    "df.persist()\n",
    "df.head()\n",
    "df.printSchema()"
   ]
  },
  {
   "cell_type": "code",
   "execution_count": 6,
   "metadata": {},
   "outputs": [
    {
     "data": {
      "text/plain": [
       "286500"
      ]
     },
     "execution_count": 6,
     "metadata": {},
     "output_type": "execute_result"
    }
   ],
   "source": [
    "# Number of rows\n",
    "df.count()"
   ]
  },
  {
   "cell_type": "code",
   "execution_count": 7,
   "metadata": {},
   "outputs": [
    {
     "name": "stdout",
     "output_type": "stream",
     "text": [
      "+-------+------------------+\n",
      "|summary|            artist|\n",
      "+-------+------------------+\n",
      "|  count|            228108|\n",
      "|   mean| 551.0852017937219|\n",
      "| stddev|1217.7693079161377|\n",
      "|    min|               !!!|\n",
      "|    max| ÃÂlafur Arnalds|\n",
      "+-------+------------------+\n",
      "\n",
      "+-------+----------+\n",
      "|summary|      auth|\n",
      "+-------+----------+\n",
      "|  count|    286500|\n",
      "|   mean|      null|\n",
      "| stddev|      null|\n",
      "|    min| Cancelled|\n",
      "|    max|Logged Out|\n",
      "+-------+----------+\n",
      "\n",
      "+-------+---------+\n",
      "|summary|firstName|\n",
      "+-------+---------+\n",
      "|  count|   278154|\n",
      "|   mean|     null|\n",
      "| stddev|     null|\n",
      "|    min| Adelaida|\n",
      "|    max|   Zyonna|\n",
      "+-------+---------+\n",
      "\n",
      "+-------+------+\n",
      "|summary|gender|\n",
      "+-------+------+\n",
      "|  count|278154|\n",
      "|   mean|  null|\n",
      "| stddev|  null|\n",
      "|    min|     F|\n",
      "|    max|     M|\n",
      "+-------+------+\n",
      "\n",
      "+-------+------------------+\n",
      "|summary|     itemInSession|\n",
      "+-------+------------------+\n",
      "|  count|            286500|\n",
      "|   mean|114.41421291448516|\n",
      "| stddev| 129.7672620114106|\n",
      "|    min|                 0|\n",
      "|    max|              1321|\n",
      "+-------+------------------+\n",
      "\n",
      "+-------+--------+\n",
      "|summary|lastName|\n",
      "+-------+--------+\n",
      "|  count|  278154|\n",
      "|   mean|    null|\n",
      "| stddev|    null|\n",
      "|    min|   Adams|\n",
      "|    max|  Wright|\n",
      "+-------+--------+\n",
      "\n",
      "+-------+------------------+\n",
      "|summary|            length|\n",
      "+-------+------------------+\n",
      "|  count|            228108|\n",
      "|   mean|249.11718197783583|\n",
      "| stddev| 99.23517921058313|\n",
      "|    min|           0.78322|\n",
      "|    max|        3024.66567|\n",
      "+-------+------------------+\n",
      "\n",
      "+-------+------+\n",
      "|summary| level|\n",
      "+-------+------+\n",
      "|  count|286500|\n",
      "|   mean|  null|\n",
      "| stddev|  null|\n",
      "|    min|  free|\n",
      "|    max|  paid|\n",
      "+-------+------+\n",
      "\n",
      "+-------+-----------------+\n",
      "|summary|         location|\n",
      "+-------+-----------------+\n",
      "|  count|           278154|\n",
      "|   mean|             null|\n",
      "| stddev|             null|\n",
      "|    min|       Albany, OR|\n",
      "|    max|Winston-Salem, NC|\n",
      "+-------+-----------------+\n",
      "\n",
      "+-------+------+\n",
      "|summary|method|\n",
      "+-------+------+\n",
      "|  count|286500|\n",
      "|   mean|  null|\n",
      "| stddev|  null|\n",
      "|    min|   GET|\n",
      "|    max|   PUT|\n",
      "+-------+------+\n",
      "\n",
      "+-------+-------+\n",
      "|summary|   page|\n",
      "+-------+-------+\n",
      "|  count| 286500|\n",
      "|   mean|   null|\n",
      "| stddev|   null|\n",
      "|    min|  About|\n",
      "|    max|Upgrade|\n",
      "+-------+-------+\n",
      "\n",
      "+-------+--------------------+\n",
      "|summary|        registration|\n",
      "+-------+--------------------+\n",
      "|  count|              278154|\n",
      "|   mean|1.535358834085619...|\n",
      "| stddev|3.2913216163281236E9|\n",
      "|    min|       1521380675000|\n",
      "|    max|       1543247354000|\n",
      "+-------+--------------------+\n",
      "\n",
      "+-------+-----------------+\n",
      "|summary|        sessionId|\n",
      "+-------+-----------------+\n",
      "|  count|           286500|\n",
      "|   mean|1041.526554973822|\n",
      "| stddev|726.7762634630807|\n",
      "|    min|                1|\n",
      "|    max|             2474|\n",
      "+-------+-----------------+\n",
      "\n",
      "+-------+--------------------+\n",
      "|summary|                song|\n",
      "+-------+--------------------+\n",
      "|  count|              228108|\n",
      "|   mean|            Infinity|\n",
      "| stddev|                 NaN|\n",
      "|    min|\u001c",
      "ÃÂg ÃÂtti Gr...|\n",
      "|    max|ÃÂau hafa slopp...|\n",
      "+-------+--------------------+\n",
      "\n",
      "+-------+------------------+\n",
      "|summary|            status|\n",
      "+-------+------------------+\n",
      "|  count|            286500|\n",
      "|   mean|210.05459685863875|\n",
      "| stddev|31.505078488421987|\n",
      "|    min|               200|\n",
      "|    max|               404|\n",
      "+-------+------------------+\n",
      "\n",
      "+-------+--------------------+\n",
      "|summary|                  ts|\n",
      "+-------+--------------------+\n",
      "|  count|              286500|\n",
      "|   mean|1.540956889810394...|\n",
      "| stddev|  1.50754396082106E9|\n",
      "|    min|       1538352117000|\n",
      "|    max|       1543799476000|\n",
      "+-------+--------------------+\n",
      "\n",
      "+-------+--------------------+\n",
      "|summary|           userAgent|\n",
      "+-------+--------------------+\n",
      "|  count|              278154|\n",
      "|   mean|                null|\n",
      "| stddev|                null|\n",
      "|    min|\"Mozilla/5.0 (Mac...|\n",
      "|    max|Mozilla/5.0 (comp...|\n",
      "+-------+--------------------+\n",
      "\n",
      "+-------+------------------+\n",
      "|summary|            userId|\n",
      "+-------+------------------+\n",
      "|  count|            286500|\n",
      "|   mean| 59682.02278593872|\n",
      "| stddev|109091.94999910559|\n",
      "|    min|                  |\n",
      "|    max|                99|\n",
      "+-------+------------------+\n",
      "\n"
     ]
    }
   ],
   "source": [
    "# get an overview of all columns, use a for loop so the display of each column is in its own \"table\", which makes it more readable than\n",
    "# the default \"wide\" view of df.describe()\n",
    "for c in df.columns:\n",
    "    df.describe(c).show()"
   ]
  },
  {
   "cell_type": "code",
   "execution_count": 8,
   "metadata": {},
   "outputs": [],
   "source": [
    "# remove records with a missing userId or sessionId\n",
    "df = df.dropna(how=\"any\", subset=[\"userId\", \"sessionId\"])"
   ]
  },
  {
   "cell_type": "code",
   "execution_count": 9,
   "metadata": {},
   "outputs": [
    {
     "data": {
      "text/plain": [
       "286500"
      ]
     },
     "execution_count": 9,
     "metadata": {},
     "output_type": "execute_result"
    }
   ],
   "source": [
    "# print the count of remaining rows\n",
    "df.count()"
   ]
  },
  {
   "cell_type": "markdown",
   "metadata": {},
   "source": [
    "**No rows were removed, which means there is no null values in the userId or sessionId fields**"
   ]
  },
  {
   "cell_type": "code",
   "execution_count": 10,
   "metadata": {
    "scrolled": true
   },
   "outputs": [
    {
     "name": "stdout",
     "output_type": "stream",
     "text": [
      "+------+-----+\n",
      "|userId|count|\n",
      "+------+-----+\n",
      "|      | 8346|\n",
      "|    10|  795|\n",
      "|   100| 3214|\n",
      "|100001|  187|\n",
      "|100002|  218|\n",
      "|100003|   78|\n",
      "|100004| 1245|\n",
      "|100005|  216|\n",
      "|100006|   44|\n",
      "|100007|  520|\n",
      "|100008|  940|\n",
      "|100009|  671|\n",
      "|100010|  381|\n",
      "|100011|   23|\n",
      "|100012|  600|\n",
      "|100013| 1392|\n",
      "|100014|  310|\n",
      "|100015| 1050|\n",
      "|100016|  638|\n",
      "|100017|   75|\n",
      "+------+-----+\n",
      "only showing top 20 rows\n",
      "\n"
     ]
    }
   ],
   "source": [
    "# identify records with invalid value of userId\n",
    "df.groupBy(\"userId\").count().orderBy(\"userId\").show()"
   ]
  },
  {
   "cell_type": "code",
   "execution_count": 11,
   "metadata": {},
   "outputs": [
    {
     "data": {
      "text/plain": [
       "278154"
      ]
     },
     "execution_count": 11,
     "metadata": {},
     "output_type": "execute_result"
    }
   ],
   "source": [
    "# remove the rows with an empty userId. This will exclude all logged out users from the remainder of the analysis\n",
    "df = df.filter(df[\"userId\"]!=\"\")\n",
    "\n",
    "# print the count of remaining rows\n",
    "df.count()"
   ]
  },
  {
   "cell_type": "code",
   "execution_count": 12,
   "metadata": {},
   "outputs": [
    {
     "name": "stdout",
     "output_type": "stream",
     "text": [
      "+---------+-----+\n",
      "|sessionId|count|\n",
      "+---------+-----+\n",
      "|        1|  680|\n",
      "|        2|    7|\n",
      "|        3|   37|\n",
      "|        4|   24|\n",
      "|        5|   57|\n",
      "|        6|   68|\n",
      "|        7|    1|\n",
      "|        8|   45|\n",
      "|        9|  190|\n",
      "|       10|  165|\n",
      "|       11|   46|\n",
      "|       12|   59|\n",
      "|       13|  119|\n",
      "|       15|  213|\n",
      "|       16|   39|\n",
      "|       17|  169|\n",
      "|       18|   27|\n",
      "|       19|  151|\n",
      "|       20|   29|\n",
      "|       21|  127|\n",
      "+---------+-----+\n",
      "only showing top 20 rows\n",
      "\n"
     ]
    }
   ],
   "source": [
    "# show records with invalud value of sessionId\n",
    "df.groupBy(\"sessionId\").count().orderBy(\"sessionId\").show()"
   ]
  },
  {
   "cell_type": "markdown",
   "metadata": {},
   "source": [
    "**There are no invalid values in the sessionId column**\n",
    "\n",
    "\n",
    "# Exploratory Data Analysis\n",
    "When you're working with the full dataset, perform EDA by loading a small subset of the data and doing basic manipulations within Spark. In this workspace, you are already provided a small subset of data you can explore.\n",
    "\n",
    "### Define Churn\n",
    "\n",
    "Once you've done some preliminary analysis, create a column `Churn` to use as the label for your model. I suggest using the `Cancellation Confirmation` events to define your churn, which happen for both paid and free users. As a bonus task, you can also look into the `Downgrade` events.\n",
    "\n",
    "### Explore Data\n",
    "Once you've defined churn, perform some exploratory data analysis to observe the behavior for users who stayed vs users who churned. You can start by exploring aggregates on these two groups of users, observing how much of a specific action they experienced per a certain time unit or number of songs played.\n",
    "\n",
    "\n",
    "**In the following section we will explore the data to get a feeling of how it is structured, and understand the specific information that could help us identify when a user would churn or not:**"
   ]
  },
  {
   "cell_type": "code",
   "execution_count": 13,
   "metadata": {
    "scrolled": true
   },
   "outputs": [
    {
     "name": "stdout",
     "output_type": "stream",
     "text": [
      "+--------------------+\n",
      "|                page|\n",
      "+--------------------+\n",
      "|               About|\n",
      "|          Add Friend|\n",
      "|     Add to Playlist|\n",
      "|              Cancel|\n",
      "|Cancellation Conf...|\n",
      "|           Downgrade|\n",
      "|               Error|\n",
      "|                Help|\n",
      "|                Home|\n",
      "|              Logout|\n",
      "|            NextSong|\n",
      "|         Roll Advert|\n",
      "|       Save Settings|\n",
      "|            Settings|\n",
      "|    Submit Downgrade|\n",
      "|      Submit Upgrade|\n",
      "|         Thumbs Down|\n",
      "|           Thumbs Up|\n",
      "|             Upgrade|\n",
      "+--------------------+\n",
      "\n"
     ]
    }
   ],
   "source": [
    "# display the possible pages used in the dataset\n",
    "df.select(\"page\").dropDuplicates().sort(\"page\").show(30)"
   ]
  },
  {
   "cell_type": "code",
   "execution_count": 14,
   "metadata": {
    "scrolled": true
   },
   "outputs": [
    {
     "name": "stdout",
     "output_type": "stream",
     "text": [
      "+---------+\n",
      "|     auth|\n",
      "+---------+\n",
      "|Cancelled|\n",
      "|Logged In|\n",
      "+---------+\n",
      "\n"
     ]
    }
   ],
   "source": [
    "# display the possible auth values used in the dataset\n",
    "df.select(\"auth\").dropDuplicates().sort(\"auth\").show()"
   ]
  },
  {
   "cell_type": "code",
   "execution_count": 15,
   "metadata": {},
   "outputs": [
    {
     "name": "stdout",
     "output_type": "stream",
     "text": [
      "+-----+\n",
      "|level|\n",
      "+-----+\n",
      "| free|\n",
      "| paid|\n",
      "+-----+\n",
      "\n"
     ]
    }
   ],
   "source": [
    "# display the possible levels used in the dataset\n",
    "df.select(\"level\").dropDuplicates().sort(\"level\").show()"
   ]
  },
  {
   "cell_type": "code",
   "execution_count": 16,
   "metadata": {},
   "outputs": [
    {
     "name": "stdout",
     "output_type": "stream",
     "text": [
      "+--------+\n",
      "|platform|\n",
      "+--------+\n",
      "|   Linux|\n",
      "|   Apple|\n",
      "| Windows|\n",
      "+--------+\n",
      "\n"
     ]
    }
   ],
   "source": [
    "# display the possible values for the platform, extracted from user agent field\n",
    "# prepare a regex extraction function\n",
    "re = regexp_extract(\"userAgent\", r'[^(]*\\(([^ ;]*)', 1).alias(\"platform\")\n",
    "\n",
    "# replace the common platforms with an aggregated dataset to identify the technology \"world\" the user lives in\n",
    "df.select(re).replace([\"iPad\",\"iPhone\",\"Macintosh\",\"X11\",\"Windows\",\"compatible\"],\n",
    "                      [\"Apple\",\"Apple\",\"Apple\",\"Linux\",\"Windows\",\"Windows\"], \"platform\").dropDuplicates().show()"
   ]
  },
  {
   "cell_type": "code",
   "execution_count": 17,
   "metadata": {
    "scrolled": true
   },
   "outputs": [
    {
     "name": "stdout",
     "output_type": "stream",
     "text": [
      "+--------------------+------+------+\n",
      "|                page|method| count|\n",
      "+--------------------+------+------+\n",
      "|               About|   GET|   495|\n",
      "|          Add Friend|   PUT|  4277|\n",
      "|     Add to Playlist|   PUT|  6526|\n",
      "|              Cancel|   PUT|    52|\n",
      "|Cancellation Conf...|   GET|    52|\n",
      "|           Downgrade|   GET|  2055|\n",
      "|               Error|   GET|   252|\n",
      "|                Help|   GET|  1454|\n",
      "|                Home|   GET| 10082|\n",
      "|              Logout|   PUT|  3226|\n",
      "|            NextSong|   PUT|228108|\n",
      "|         Roll Advert|   GET|  3933|\n",
      "|       Save Settings|   PUT|   310|\n",
      "|            Settings|   GET|  1514|\n",
      "|    Submit Downgrade|   PUT|    63|\n",
      "|      Submit Upgrade|   PUT|   159|\n",
      "|         Thumbs Down|   PUT|  2546|\n",
      "|           Thumbs Up|   PUT| 12551|\n",
      "|             Upgrade|   GET|   499|\n",
      "+--------------------+------+------+\n",
      "\n"
     ]
    }
   ],
   "source": [
    "# identify the pages associated with a given HTTP method\n",
    "df.groupBy([\"page\",\"method\"]).count().orderBy(\"page\").show(30)"
   ]
  },
  {
   "cell_type": "markdown",
   "metadata": {},
   "source": [
    "**Each page is associated only with a defined method. Therefore the method column does not provide additional information on the usage of the site by users, it is only a technical object that is linked to the way the page is implemented**"
   ]
  },
  {
   "cell_type": "code",
   "execution_count": 18,
   "metadata": {},
   "outputs": [
    {
     "data": {
      "text/plain": [
       "225"
      ]
     },
     "execution_count": 18,
     "metadata": {},
     "output_type": "execute_result"
    }
   ],
   "source": [
    "# show the number of unique users\n",
    "df.select(\"userId\").dropDuplicates().count()"
   ]
  },
  {
   "cell_type": "code",
   "execution_count": 19,
   "metadata": {},
   "outputs": [
    {
     "data": {
      "text/plain": [
       "225"
      ]
     },
     "execution_count": 19,
     "metadata": {},
     "output_type": "execute_result"
    }
   ],
   "source": [
    "# show the number of unique registrations\n",
    "df.select(\"registration\").dropDuplicates().count()"
   ]
  },
  {
   "cell_type": "code",
   "execution_count": 20,
   "metadata": {},
   "outputs": [
    {
     "data": {
      "text/plain": [
       "225"
      ]
     },
     "execution_count": 20,
     "metadata": {},
     "output_type": "execute_result"
    }
   ],
   "source": [
    "# identify if there is a 1:1 match between userId and registration\n",
    "df.select([\"userId\",\"registration\"]).dropDuplicates().count()"
   ]
  },
  {
   "cell_type": "markdown",
   "metadata": {},
   "source": [
    "**The fact that the following values are equal mean there is a 1:1 relationship between userId and registration,\n",
    "Registration also seems to be only a technical identifier that does not provide additional information on top of the userId field**"
   ]
  },
  {
   "cell_type": "code",
   "execution_count": 21,
   "metadata": {
    "scrolled": true
   },
   "outputs": [
    {
     "name": "stdout",
     "output_type": "stream",
     "text": [
      "+------+---------+-----+\n",
      "|userId|sessionId|count|\n",
      "+------+---------+-----+\n",
      "|    10|        9|   70|\n",
      "|    10|      595|  449|\n",
      "|    10|     1047|   25|\n",
      "|    10|     1414|   78|\n",
      "|    10|     1592|   78|\n",
      "|    10|     1981|   95|\n",
      "|   100|      256|  177|\n",
      "|   100|      369|  108|\n",
      "|   100|      435|   17|\n",
      "|   100|      556|  287|\n",
      "|   100|      683|   32|\n",
      "|   100|      707|  220|\n",
      "|   100|      991|   20|\n",
      "|   100|     1049|   82|\n",
      "|   100|     1185|  170|\n",
      "|   100|     1210|   80|\n",
      "|   100|     1231|   18|\n",
      "|   100|     1269|    5|\n",
      "|   100|     1279|   31|\n",
      "|   100|     1299|   96|\n",
      "+------+---------+-----+\n",
      "only showing top 20 rows\n",
      "\n"
     ]
    }
   ],
   "source": [
    "# explore sessionId field\n",
    "df.groupBy([\"userId\",\"sessionId\"]).count().orderBy([\"userId\",\"sessionId\"]).show()"
   ]
  },
  {
   "cell_type": "markdown",
   "metadata": {},
   "source": [
    "**each user is having multiple sessions, with a variable number of actions during each session**"
   ]
  },
  {
   "cell_type": "code",
   "execution_count": 22,
   "metadata": {},
   "outputs": [
    {
     "name": "stdout",
     "output_type": "stream",
     "text": [
      "+------+\n",
      "|status|\n",
      "+------+\n",
      "|   200|\n",
      "|   307|\n",
      "|   404|\n",
      "+------+\n",
      "\n"
     ]
    }
   ],
   "source": [
    "# display the possible pages status used in the dataset\n",
    "df.select(\"status\").dropDuplicates().sort(\"status\").show()"
   ]
  },
  {
   "cell_type": "markdown",
   "metadata": {},
   "source": [
    "**HTTP statuses reference is available on https://httpstatuses.com/**\n",
    "\n",
    "**Specifically for the ones available in the above table:**\n",
    "\n",
    "* https://httpstatuses.com/200 - page ok\n",
    "\n",
    "* https://httpstatuses.com/307 - temporary redirect\n",
    "\n",
    "* https://httpstatuses.com/404 - page not found"
   ]
  },
  {
   "cell_type": "code",
   "execution_count": 23,
   "metadata": {
    "scrolled": true
   },
   "outputs": [
    {
     "name": "stdout",
     "output_type": "stream",
     "text": [
      "+---------+----------------+-----+\n",
      "|     auth|            page|count|\n",
      "+---------+----------------+-----+\n",
      "|Logged In|          Logout| 3226|\n",
      "|Logged In|       Thumbs Up|12551|\n",
      "|Logged In|  Submit Upgrade|  159|\n",
      "|Logged In|     Thumbs Down| 2546|\n",
      "|Logged In|      Add Friend| 4277|\n",
      "|Logged In|   Save Settings|  310|\n",
      "|Logged In|          Cancel|   52|\n",
      "|Logged In|Submit Downgrade|   63|\n",
      "+---------+----------------+-----+\n",
      "\n"
     ]
    }
   ],
   "source": [
    "# Show the pages with a redirect\n",
    "df.filter(df[\"status\"]==\"307\").groupBy([\"auth\",\"page\"]).count().orderBy(\"auth\").show()"
   ]
  },
  {
   "cell_type": "code",
   "execution_count": 24,
   "metadata": {
    "scrolled": true
   },
   "outputs": [
    {
     "name": "stdout",
     "output_type": "stream",
     "text": [
      "+---------+-----+-----+\n",
      "|     auth| page|count|\n",
      "+---------+-----+-----+\n",
      "|Logged In|Error|  252|\n",
      "+---------+-----+-----+\n",
      "\n"
     ]
    }
   ],
   "source": [
    "# Show the pages with an Error\n",
    "df.filter(df[\"status\"]==\"404\").groupBy([\"auth\",\"page\"]).count().orderBy(\"auth\").show()"
   ]
  },
  {
   "cell_type": "code",
   "execution_count": 25,
   "metadata": {
    "scrolled": true
   },
   "outputs": [
    {
     "name": "stdout",
     "output_type": "stream",
     "text": [
      "+------+---------+---------+------+-------------+--------+------+-----+--------------------+------+-----+-------------+---------+----+------+-------------+--------------------+------+\n",
      "|artist|     auth|firstName|gender|itemInSession|lastName|length|level|            location|method| page| registration|sessionId|song|status|           ts|           userAgent|userId|\n",
      "+------+---------+---------+------+-------------+--------+------+-----+--------------------+------+-----+-------------+---------+----+------+-------------+--------------------+------+\n",
      "|  null|Logged In|     Kael|     M|           48|   Baker|  null| paid|Kingsport-Bristol...|   GET|Error|1533102330000|      249|null|   404|1538393848000|\"Mozilla/5.0 (Mac...|   131|\n",
      "|  null|Logged In|   Lucero|     F|           10|    Reed|  null| free|Louisville/Jeffer...|   GET|Error|1536642109000|      139|null|   404|1538407927000|\"Mozilla/5.0 (Win...|   140|\n",
      "|  null|Logged In|Sebastian|     M|           38|    Wang|  null| free|         Jackson, MS|   GET|Error|1538050164000|       52|null|   404|1538425401000|\"Mozilla/5.0 (Mac...|    53|\n",
      "|  null|Logged In|    Micah|     M|           38|    Long|  null| free|Boston-Cambridge-...|   GET|Error|1538331630000|      262|null|   404|1538489751000|\"Mozilla/5.0 (Win...|     9|\n",
      "|  null|Logged In|   Payton|     F|           19|Campbell|  null| free|Los Angeles-Long ...|   GET|Error|1529027541000|      354|null|   404|1538515176000|\"Mozilla/5.0 (Win...|    39|\n",
      "+------+---------+---------+------+-------------+--------+------+-----+--------------------+------+-----+-------------+---------+----+------+-------------+--------------------+------+\n",
      "only showing top 5 rows\n",
      "\n"
     ]
    }
   ],
   "source": [
    "# example of a user with error in the activities\n",
    "df.filter(df[\"status\"]==\"404\").show(5)"
   ]
  },
  {
   "cell_type": "code",
   "execution_count": 26,
   "metadata": {
    "scrolled": true
   },
   "outputs": [
    {
     "name": "stdout",
     "output_type": "stream",
     "text": [
      "+------+---------+---------+---------+-----------+------+-----+--------------------+\n",
      "|userId|firstname|sessionId|     auth|       page|status|level|                song|\n",
      "+------+---------+---------+---------+-----------+------+-----+--------------------+\n",
      "|    17|    Kayla|      250|Logged In|       Home|   200| free|                null|\n",
      "|    17|    Kayla|      250|Logged In|   NextSong|   200| free|      Pork And Beans|\n",
      "|    17|    Kayla|      250|Logged In|   NextSong|   200| free|Pursuit Of Happin...|\n",
      "|    17|    Kayla|      250|Logged In|   NextSong|   200| free|     God Isn't Dead?|\n",
      "|    17|    Kayla|      250|Logged In|   NextSong|   200| free|        By My Spirit|\n",
      "|    17|    Kayla|      250|Logged In|   NextSong|   200| free|Best Imitation Of...|\n",
      "|    17|    Kayla|      250|Logged In|   NextSong|   200| free|Language Lessons ...|\n",
      "|    17|    Kayla|      250|Logged In|Roll Advert|   200| free|                null|\n",
      "|    17|    Kayla|      250|Logged In|   NextSong|   200| free|Tavallaan jokaine...|\n",
      "|    17|    Kayla|      250|Logged In|   NextSong|   200| free|   Alive (nightmare)|\n",
      "|    17|    Kayla|      250|Logged In|Roll Advert|   200| free|                null|\n",
      "|    17|    Kayla|      250|Logged In|   NextSong|   200| free|Supermassive Blac...|\n",
      "|    17|    Kayla|      250|Logged In|    Upgrade|   200| free|                null|\n",
      "|    17|    Kayla|      250|Logged In|    Upgrade|   200| free|                null|\n",
      "|    17|    Kayla|      250|Logged In| Add Friend|   307| free|                null|\n",
      "|    17|    Kayla|      250|Logged In|   NextSong|   200| free|             Secrets|\n",
      "|    17|    Kayla|      250|Logged In|   NextSong|   200| free| DJ Play A Love Song|\n",
      "|    17|    Kayla|      250|Logged In|   NextSong|   200| free|           Mason Jar|\n",
      "|    17|    Kayla|      250|Logged In|Roll Advert|   200| free|                null|\n",
      "|    17|    Kayla|      250|Logged In|   NextSong|   200| free|I Was Made For Lo...|\n",
      "+------+---------+---------+---------+-----------+------+-----+--------------------+\n",
      "only showing top 20 rows\n",
      "\n"
     ]
    }
   ],
   "source": [
    "df.select([\"userId\", \"firstname\", \"sessionId\", \"auth\", \"page\", \"status\", \"level\", \"song\"]).where(df.userId == \"17\").show()"
   ]
  },
  {
   "cell_type": "code",
   "execution_count": 27,
   "metadata": {
    "scrolled": true
   },
   "outputs": [
    {
     "name": "stdout",
     "output_type": "stream",
     "text": [
      "+------+-----+---------+-----+\n",
      "|userId|level|     auth|count|\n",
      "+------+-----+---------+-----+\n",
      "|     2| paid|Logged In|  899|\n",
      "|     3| paid|Logged In|  253|\n",
      "|     3| paid|Cancelled|    1|\n",
      "|     4| free|Logged In|  141|\n",
      "|     4| paid|Logged In| 2301|\n",
      "|     5| free|Logged In|  218|\n",
      "|     6| free|Logged In|   84|\n",
      "|     6| paid|Logged In| 3677|\n",
      "|     7| free|Logged In|  201|\n",
      "|     8| free|Logged In|  334|\n",
      "|     9| paid|Logged In| 2934|\n",
      "|     9| free|Logged In|  257|\n",
      "|    10| paid|Logged In|  795|\n",
      "|    11| paid|Logged In|  229|\n",
      "|    11| free|Logged In|  619|\n",
      "|    12| paid|Cancelled|    1|\n",
      "|    12| free|Logged In|  442|\n",
      "|    12| paid|Logged In|  621|\n",
      "|    13| paid|Logged In|  452|\n",
      "|    13| free|Logged In| 1202|\n",
      "+------+-----+---------+-----+\n",
      "only showing top 20 rows\n",
      "\n"
     ]
    }
   ],
   "source": [
    "# show users who have changes status during the period captured in the dataset\n",
    "df.withColumn(\"userId\", df[\"userId\"].cast(IntegerType())).groupBy([\"userId\",\"level\",\"auth\"]).count().orderBy(\"userId\").show()"
   ]
  },
  {
   "cell_type": "markdown",
   "metadata": {},
   "source": [
    "### Define Churn:\n",
    "**After this preliminary analysis, we will create a column churn to use as the label for the model. We will be using the Cancellation Confirmation events to define churn, which happen for both paid and free users.**"
   ]
  },
  {
   "cell_type": "code",
   "execution_count": 28,
   "metadata": {},
   "outputs": [],
   "source": [
    "# Add the Churn column\n",
    "flag_cancel_event = udf(lambda x: 1 if x == \"Cancellation Confirmation\" else 0, IntegerType())\n",
    "df = df.withColumn(\"churn\", flag_cancel_event(\"page\"))\n",
    "\n",
    "# repeat the churn flag for all rows of the users who churned\n",
    "windowval = Window.partitionBy(\"userId\").orderBy(desc(\"ts\")).rangeBetween(Window.unboundedPreceding, 0)\n",
    "df = df.withColumn(\"churn\", Fsum(\"churn\").over(windowval))"
   ]
  },
  {
   "cell_type": "code",
   "execution_count": 29,
   "metadata": {},
   "outputs": [
    {
     "data": {
      "text/plain": [
       "Row(artist=None, auth='Cancelled', firstName='Mason', gender='M', itemInSession=10, lastName='Hart', length=None, level='free', location='Corpus Christi, TX', method='GET', page='Cancellation Confirmation', registration=1533157139000, sessionId=174, song=None, status=200, ts=1539318918000, userAgent='\"Mozilla/5.0 (Macintosh; Intel Mac OS X 10_9_4) AppleWebKit/537.36 (KHTML, like Gecko) Chrome/36.0.1985.125 Safari/537.36\"', userId='125', churn=1)"
      ]
     },
     "execution_count": 29,
     "metadata": {},
     "output_type": "execute_result"
    }
   ],
   "source": [
    "# find an example of Cancellation record\n",
    "df.filter(\"page = 'Cancellation Confirmation'\").head()"
   ]
  },
  {
   "cell_type": "markdown",
   "metadata": {},
   "source": [
    "### Exploration:\n",
    "**We will now perform some exploratory data analysis to observe the behavior for users who stayed vs users who churned. We will be exploring aggregates on these two groups of users**"
   ]
  },
  {
   "cell_type": "code",
   "execution_count": 30,
   "metadata": {},
   "outputs": [
    {
     "data": {
      "text/plain": [
       "[Row(userId='18', sessionId=514, ts=1538943990000, page='Cancellation Confirmation', level='paid', churn=1),\n",
       " Row(userId='18', sessionId=514, ts=1538943740000, page='Cancel', level='paid', churn=1),\n",
       " Row(userId='18', sessionId=514, ts=1538943739000, page='Downgrade', level='paid', churn=1),\n",
       " Row(userId='18', sessionId=514, ts=1538943726000, page='NextSong', level='paid', churn=1),\n",
       " Row(userId='18', sessionId=514, ts=1538943440000, page='NextSong', level='paid', churn=1),\n",
       " Row(userId='18', sessionId=514, ts=1538943117000, page='NextSong', level='paid', churn=1),\n",
       " Row(userId='18', sessionId=514, ts=1538942837000, page='NextSong', level='paid', churn=1),\n",
       " Row(userId='18', sessionId=514, ts=1538942663000, page='NextSong', level='paid', churn=1),\n",
       " Row(userId='18', sessionId=514, ts=1538942425000, page='NextSong', level='paid', churn=1),\n",
       " Row(userId='18', sessionId=514, ts=1538942030000, page='NextSong', level='paid', churn=1),\n",
       " Row(userId='18', sessionId=514, ts=1538941694000, page='NextSong', level='paid', churn=1),\n",
       " Row(userId='18', sessionId=514, ts=1538941482000, page='NextSong', level='paid', churn=1),\n",
       " Row(userId='18', sessionId=514, ts=1538941297000, page='NextSong', level='paid', churn=1),\n",
       " Row(userId='18', sessionId=514, ts=1538941085000, page='NextSong', level='paid', churn=1),\n",
       " Row(userId='18', sessionId=514, ts=1538940816000, page='NextSong', level='paid', churn=1),\n",
       " Row(userId='18', sessionId=514, ts=1538940518000, page='NextSong', level='paid', churn=1),\n",
       " Row(userId='18', sessionId=514, ts=1538940279000, page='NextSong', level='paid', churn=1),\n",
       " Row(userId='18', sessionId=514, ts=1538940231000, page='NextSong', level='paid', churn=1),\n",
       " Row(userId='18', sessionId=514, ts=1538939978000, page='NextSong', level='paid', churn=1),\n",
       " Row(userId='18', sessionId=514, ts=1538939856000, page='NextSong', level='paid', churn=1)]"
      ]
     },
     "execution_count": 30,
     "metadata": {},
     "output_type": "execute_result"
    }
   ],
   "source": [
    "# show an example of a user journey to Cancellation, this will be displayed with most recent record (\"cancellation\") on top\n",
    "df.select([\"userId\", \"sessionId\", \"ts\", \"page\", \"level\", \"churn\"]) \\\n",
    "    .where(df.userId==\"18\") \\\n",
    "    .where(df.sessionId==\"514\") \\\n",
    "    .sort(\"ts\", ascending=False) \\\n",
    "    .head(20)"
   ]
  },
  {
   "cell_type": "code",
   "execution_count": 31,
   "metadata": {
    "scrolled": true
   },
   "outputs": [
    {
     "name": "stdout",
     "output_type": "stream",
     "text": [
      "+-----+-----+\n",
      "|churn|count|\n",
      "+-----+-----+\n",
      "|    0|  173|\n",
      "|    1|   52|\n",
      "+-----+-----+\n",
      "\n"
     ]
    }
   ],
   "source": [
    "# count how many users churn vs the others\n",
    "churn = df.select([\"userId\", \"churn\"]).dropDuplicates().groupBy(\"churn\").count()\n",
    "\n",
    "churn.show()"
   ]
  },
  {
   "cell_type": "code",
   "execution_count": 32,
   "metadata": {
    "scrolled": false
   },
   "outputs": [
    {
     "data": {
      "image/png": "[encoded data removed]",
      "text/plain": [
       "<Figure size 360x360 with 1 Axes>"
      ]
     },
     "metadata": {},
     "output_type": "display_data"
    }
   ],
   "source": [
    "# plot the ratio of users who churn vs. others\n",
    "pd_df = churn.toPandas()\n",
    "fig=plt.figure(figsize=(5,5))\n",
    "plt.pie(x=pd_df[\"count\"], labels=[\"not churn\",\"churn\"]);"
   ]
  },
  {
   "cell_type": "markdown",
   "metadata": {},
   "source": [
    "**A little less than a 25% of the users perform churn**"
   ]
  },
  {
   "cell_type": "code",
   "execution_count": 33,
   "metadata": {},
   "outputs": [
    {
     "name": "stdout",
     "output_type": "stream",
     "text": [
      "+-----+------+-----+-------------------+\n",
      "|churn|gender|count|            percent|\n",
      "+-----+------+-----+-------------------+\n",
      "|    0|     F|   84|0.48554913294797686|\n",
      "|    0|     M|   89| 0.5144508670520231|\n",
      "|    1|     F|   20|0.38461538461538464|\n",
      "|    1|     M|   32| 0.6153846153846154|\n",
      "+-----+------+-----+-------------------+\n",
      "\n"
     ]
    }
   ],
   "source": [
    "# compare the gender of the users who churn vs. users who do not churn\n",
    "gender = df.select([\"userId\", \"gender\", \"churn\"]).dropDuplicates() \\\n",
    "    .groupBy(\"churn\", \"gender\").count() \\\n",
    "    .withColumn(\"percent\", col(\"count\")/Fsum(\"count\").over(Window.partitionBy(\"churn\"))) \\\n",
    "    .orderBy([\"churn\", \"gender\"])\n",
    "\n",
    "gender.show()"
   ]
  },
  {
   "cell_type": "code",
   "execution_count": 34,
   "metadata": {
    "scrolled": true
   },
   "outputs": [
    {
     "name": "stderr",
     "output_type": "stream",
     "text": [
      "/Users/mohammed/opt/anaconda3/lib/python3.7/site-packages/ipykernel_launcher.py:9: UserWarning: FixedFormatter should only be used together with FixedLocator\n",
      "  if __name__ == '__main__':\n"
     ]
    },
    {
     "data": {
      "image/png": "[encoded data removed]",
      "text/plain": [
       "<Figure size 576x432 with 1 Axes>"
      ]
     },
     "metadata": {
      "needs_background": "light"
     },
     "output_type": "display_data"
    }
   ],
   "source": [
    "# plot the churn by gender information\n",
    "pd_df = gender.toPandas()\n",
    "\n",
    "pd_df = pd_df.pivot(index='churn', columns='gender', values='percent');\n",
    "pd_df.plot.bar(stacked=True, figsize=(8,6), edgecolor='white');\n",
    "\n",
    "# do some chart formatting\n",
    "plt.ylabel(\"percentage\");\n",
    "plt.gca().set_yticklabels(['{:.0f}%'.format(x*100) for x in plt.gca().get_yticks()]);"
   ]
  },
  {
   "cell_type": "markdown",
   "metadata": {},
   "source": [
    "**The Male population is more likely to churn, relative to the total number of users in their category**"
   ]
  },
  {
   "cell_type": "code",
   "execution_count": 35,
   "metadata": {
    "scrolled": true
   },
   "outputs": [
    {
     "name": "stdout",
     "output_type": "stream",
     "text": [
      "+-----+-----+-----+-------------------+\n",
      "|churn|level|count|            percent|\n",
      "+-----+-----+-----+-------------------+\n",
      "|    0| free|  133| 0.7687861271676301|\n",
      "|    0| paid|   40|0.23121387283236994|\n",
      "|    1| free|   44| 0.8461538461538461|\n",
      "|    1| paid|    8|0.15384615384615385|\n",
      "+-----+-----+-----+-------------------+\n",
      "\n"
     ]
    }
   ],
   "source": [
    "# compare the level (paid/free) of the users who churn vs. users who do not churn\n",
    "# we want the last level of the user in the dataset, as the level of a user can evolve over time\n",
    "partition_window = Window.partitionBy([\"userId\"])\n",
    "\n",
    "level = df.select(col(\"userId\"), last(\"level\").over(partition_window).alias(\"level\"), col(\"churn\")).dropDuplicates() \\\n",
    "    .groupBy(\"churn\", \"level\").count() \\\n",
    "    .withColumn(\"percent\", col(\"count\")/Fsum(\"count\").over(Window.partitionBy(\"churn\"))) \\\n",
    "    .orderBy([\"churn\", \"level\"])\n",
    "\n",
    "level.show()"
   ]
  },
  {
   "cell_type": "code",
   "execution_count": 36,
   "metadata": {
    "scrolled": true
   },
   "outputs": [
    {
     "name": "stderr",
     "output_type": "stream",
     "text": [
      "/Users/mohammed/opt/anaconda3/lib/python3.7/site-packages/ipykernel_launcher.py:9: UserWarning: FixedFormatter should only be used together with FixedLocator\n",
      "  if __name__ == '__main__':\n"
     ]
    },
    {
     "data": {
      "image/png": "[encoded data removed]",
      "text/plain": [
       "<Figure size 576x432 with 1 Axes>"
      ]
     },
     "metadata": {
      "needs_background": "light"
     },
     "output_type": "display_data"
    }
   ],
   "source": [
    "# plot the churn by level information\n",
    "pd_df = level.toPandas()\n",
    "\n",
    "pd_df = pd_df.pivot(index='churn', columns='level', values='percent');\n",
    "pd_df.plot.bar(stacked=True, figsize=(8,6), edgecolor='white');\n",
    "\n",
    "# do some chart formatting\n",
    "plt.ylabel(\"percentage\");\n",
    "plt.gca().set_yticklabels(['{:.0f}%'.format(x*100) for x in plt.gca().get_yticks()]);"
   ]
  },
  {
   "cell_type": "markdown",
   "metadata": {},
   "source": [
    "**The free users are slightly more likely to churn than paid users**"
   ]
  },
  {
   "cell_type": "code",
   "execution_count": 37,
   "metadata": {},
   "outputs": [
    {
     "name": "stdout",
     "output_type": "stream",
     "text": [
      "+-----+------+-------------+\n",
      "|churn|userId|count(artist)|\n",
      "+-----+------+-------------+\n",
      "|    0|100010|          252|\n",
      "|    0|200002|          339|\n",
      "|    1|   125|            8|\n",
      "|    0|   124|         2232|\n",
      "|    1|    51|         1385|\n",
      "|    0|     7|          142|\n",
      "|    0|    15|         1302|\n",
      "|    1|    54|         1744|\n",
      "|    0|   155|          643|\n",
      "|    1|100014|          233|\n",
      "|    0|   132|         1299|\n",
      "|    0|   154|           78|\n",
      "|    1|   101|         1241|\n",
      "|    0|    11|          534|\n",
      "|    0|   138|         1332|\n",
      "|    0|300017|         2070|\n",
      "|    1|100021|          207|\n",
      "|    1|    29|         1804|\n",
      "|    0|    69|          865|\n",
      "|    0|   112|          195|\n",
      "+-----+------+-------------+\n",
      "only showing top 20 rows\n",
      "\n"
     ]
    }
   ],
   "source": [
    "# show total number of different artists that each user listens to\n",
    "df.filter(df[\"artist\"].isNotNull()) \\\n",
    "    .select([\"userId\", \"artist\", \"churn\"]).dropDuplicates() \\\n",
    "    .groupBy([\"churn\", \"userId\"]).agg(count(\"artist\")) \\\n",
    "    .show()"
   ]
  },
  {
   "cell_type": "code",
   "execution_count": 38,
   "metadata": {},
   "outputs": [
    {
     "name": "stdout",
     "output_type": "stream",
     "text": [
      "+-----+------------------+\n",
      "|churn|avg(count(artist))|\n",
      "+-----+------------------+\n",
      "|    0| 749.7861271676301|\n",
      "|    1| 518.6923076923077|\n",
      "+-----+------------------+\n",
      "\n"
     ]
    }
   ],
   "source": [
    "# show average number of different artists that users listen to between users who churn vs. users who do not churn\n",
    "diversity = df.filter(df[\"artist\"].isNotNull()) \\\n",
    "    .select([\"userId\", \"artist\", \"churn\"]).dropDuplicates() \\\n",
    "    .groupBy([\"churn\", \"userId\"]).agg(count(\"artist\")) \\\n",
    "    .groupBy(\"churn\").agg(avg(\"count(artist)\"))\n",
    "\n",
    "diversity.show()"
   ]
  },
  {
   "cell_type": "code",
   "execution_count": 39,
   "metadata": {
    "scrolled": true
   },
   "outputs": [
    {
     "data": {
      "image/png": "[encoded data removed]",
      "text/plain": [
       "<Figure size 576x432 with 1 Axes>"
      ]
     },
     "metadata": {
      "needs_background": "light"
     },
     "output_type": "display_data"
    }
   ],
   "source": [
    "# plot the churn by diversity information\n",
    "pd_df = diversity.toPandas()\n",
    "fig=plt.figure(figsize=(8,6))\n",
    "sns.barplot(x=\"churn\", y=\"avg(count(artist))\", data=pd_df);"
   ]
  },
  {
   "cell_type": "markdown",
   "metadata": {},
   "source": [
    "**The users who churn are listening to a smaller number of artists over the period of time of the dataset. It is possble that this result is influenced by the fact they are not staying as long on the service, so we will look at the same information, but based on the session instead**"
   ]
  },
  {
   "cell_type": "code",
   "execution_count": 40,
   "metadata": {},
   "outputs": [
    {
     "name": "stdout",
     "output_type": "stream",
     "text": [
      "+-----+------------------+\n",
      "|churn|avg(count(artist))|\n",
      "+-----+------------------+\n",
      "|    0| 70.10344827586206|\n",
      "|    1| 65.69171483622351|\n",
      "+-----+------------------+\n",
      "\n"
     ]
    }
   ],
   "source": [
    "# show average number of different artists per session that users listen to between users who churn vs. users who do not churn\n",
    "diversity_per_session = df.filter(df[\"artist\"].isNotNull()) \\\n",
    "    .select([\"userId\", \"sessionId\", \"artist\", \"churn\"]).dropDuplicates() \\\n",
    "    .groupBy([\"churn\", \"userId\", \"sessionId\"]).agg(count(\"artist\")) \\\n",
    "    .groupBy(\"churn\").agg(avg(\"count(artist)\"))\n",
    "\n",
    "diversity_per_session.show()"
   ]
  },
  {
   "cell_type": "code",
   "execution_count": 41,
   "metadata": {
    "scrolled": false
   },
   "outputs": [
    {
     "data": {
      "image/png": "[encoded data removed]",
      "text/plain": [
       "<Figure size 576x432 with 1 Axes>"
      ]
     },
     "metadata": {
      "needs_background": "light"
     },
     "output_type": "display_data"
    }
   ],
   "source": [
    "# plot the churn by diversity per sessioninformation\n",
    "pd_df = diversity_per_session.toPandas()\n",
    "fig=plt.figure(figsize=(8,6))\n",
    "sns.barplot(x=\"churn\", y=\"avg(count(artist))\", data=pd_df);"
   ]
  },
  {
   "cell_type": "markdown",
   "metadata": {},
   "source": [
    "**This chart assures us that the users who churn are listening to a smaller diversity of artists per session.**"
   ]
  },
  {
   "cell_type": "code",
   "execution_count": 42,
   "metadata": {},
   "outputs": [
    {
     "name": "stdout",
     "output_type": "stream",
     "text": [
      "+-----+------+---------+----------+\n",
      "|churn|userId|sessionId|max(count)|\n",
      "+-----+------+---------+----------+\n",
      "|    0|   115|      316|        12|\n",
      "|    0|    91|     1840|        12|\n",
      "|    0|    61|      529|        10|\n",
      "|    0|    41|      377|         9|\n",
      "|    0|   132|     1494|         8|\n",
      "|    0|    62|     1150|         7|\n",
      "|    0|    25|      827|         7|\n",
      "|    0|   100|      556|         7|\n",
      "|    0|   128|     2206|         7|\n",
      "|    0|    95|      541|         7|\n",
      "|    0|   138|     2305|         7|\n",
      "|    1|   103|     1117|         7|\n",
      "|    0|     6|     1199|         7|\n",
      "|    0|200014|      361|         7|\n",
      "|    1|   101|      635|         7|\n",
      "|    0|300002|      436|         7|\n",
      "|    0|    42|     1646|         7|\n",
      "|    0|   138|     1305|         7|\n",
      "|    0|    89|     1271|         7|\n",
      "|    0|   124|      708|         7|\n",
      "+-----+------+---------+----------+\n",
      "only showing top 20 rows\n",
      "\n"
     ]
    }
   ],
   "source": [
    "# show highest number of times the same artist was played by each user in each session\n",
    "df.filter(df[\"artist\"].isNotNull()) \\\n",
    "    .groupBy([\"churn\", \"sessionId\", \"userId\", \"artist\"]).count() \\\n",
    "    .groupBy([\"churn\",\"userId\", \"sessionId\"]).agg(Fmax(\"count\")) \\\n",
    "    .orderBy(\"max(count)\", ascending=False).show()"
   ]
  },
  {
   "cell_type": "code",
   "execution_count": 43,
   "metadata": {},
   "outputs": [
    {
     "name": "stdout",
     "output_type": "stream",
     "text": [
      "+-----+------------------+\n",
      "|churn|   avg(max(count))|\n",
      "+-----+------------------+\n",
      "|    0|1.8875391849529781|\n",
      "|    1|1.8439306358381502|\n",
      "+-----+------------------+\n",
      "\n"
     ]
    }
   ],
   "source": [
    "# show average highest number of times the same artist was played by each user in each session between users who churn vs. users who do not churn\n",
    "repeat_artist_per_session = df.filter(df[\"artist\"].isNotNull()) \\\n",
    "    .groupBy([\"churn\", \"sessionId\", \"userId\", \"artist\"]).count() \\\n",
    "    .groupBy([\"churn\", \"userId\", \"sessionId\"]).agg(Fmax(\"count\")) \\\n",
    "    .groupBy(\"churn\").agg(avg(\"max(count)\"))\n",
    "\n",
    "repeat_artist_per_session.show()"
   ]
  },
  {
   "cell_type": "code",
   "execution_count": 44,
   "metadata": {
    "scrolled": true
   },
   "outputs": [
    {
     "data": {
      "image/png": "[encoded data removed]",
      "text/plain": [
       "<Figure size 576x432 with 1 Axes>"
      ]
     },
     "metadata": {
      "needs_background": "light"
     },
     "output_type": "display_data"
    }
   ],
   "source": [
    "# plot the churn by diversity per session\n",
    "pd_df = repeat_artist_per_session.toPandas()\n",
    "fig=plt.figure(figsize=(8,6))\n",
    "sns.barplot(x=\"churn\", y=\"avg(max(count))\", data=pd_df);"
   ]
  },
  {
   "cell_type": "markdown",
   "metadata": {},
   "source": [
    "**seems to be no difference on the number of times they listen to songs from the same artist between the churn users and users who continue using the service**"
   ]
  },
  {
   "cell_type": "code",
   "execution_count": 45,
   "metadata": {
    "scrolled": true
   },
   "outputs": [
    {
     "name": "stdout",
     "output_type": "stream",
     "text": [
      "+------+-----+------------------+\n",
      "|userId|churn|       avg(length)|\n",
      "+------+-----+------------------+\n",
      "|100010|    0|  243.421444909091|\n",
      "|200002|    0|242.91699209302323|\n",
      "|   125|    1|       261.1391375|\n",
      "|   124|    0|248.17653659965666|\n",
      "|    51|    1| 247.8805508289908|\n",
      "|     7|    0|253.56058066666665|\n",
      "|    15|    0|249.37701452978044|\n",
      "|    54|    1|250.38539934530132|\n",
      "|   155|    0|242.41377060975574|\n",
      "|100014|    1| 263.4376345525294|\n",
      "|   132|    0|250.58034431535262|\n",
      "|   154|    0|245.95266559523813|\n",
      "|   101|    1| 249.0061294769059|\n",
      "|    11|    0|246.78510516228766|\n",
      "|   138|    0|247.56032983574823|\n",
      "|300017|    0|247.08341966134319|\n",
      "|100021|    1|250.57902452173914|\n",
      "|    29|    1|249.18017257925987|\n",
      "|    69|    0|254.27913390222233|\n",
      "|   112|    0|246.80347251162794|\n",
      "+------+-----+------------------+\n",
      "only showing top 20 rows\n",
      "\n"
     ]
    }
   ],
   "source": [
    "# show the average length of listening each song per user\n",
    "df.filter(df[\"artist\"].isNotNull()) \\\n",
    "    .groupBy([\"userId\", \"churn\"]).agg(avg(\"length\")) \\\n",
    "    .show()"
   ]
  },
  {
   "cell_type": "code",
   "execution_count": 46,
   "metadata": {},
   "outputs": [
    {
     "name": "stdout",
     "output_type": "stream",
     "text": [
      "+-----+------------------+\n",
      "|churn|       avg(length)|\n",
      "+-----+------------------+\n",
      "|    0|249.20913538880808|\n",
      "|    1| 248.6327956440622|\n",
      "+-----+------------------+\n",
      "\n"
     ]
    }
   ],
   "source": [
    "# show the average length of listening each song between users who churn vs. users who do not churn\n",
    "length = df.filter(df[\"artist\"].isNotNull()) \\\n",
    "    .groupBy(\"churn\").agg(avg(\"length\"))\n",
    "\n",
    "length.show()"
   ]
  },
  {
   "cell_type": "code",
   "execution_count": 47,
   "metadata": {
    "scrolled": true
   },
   "outputs": [
    {
     "data": {
      "image/png": "[encoded data removed]",
      "text/plain": [
       "<Figure size 576x432 with 1 Axes>"
      ]
     },
     "metadata": {
      "needs_background": "light"
     },
     "output_type": "display_data"
    }
   ],
   "source": [
    "# plot the average length of songs information\n",
    "pd_df = length.toPandas()\n",
    "fig=plt.figure(figsize=(8,6))\n",
    "sns.barplot(x=\"churn\", y=\"avg(length)\", data=pd_df);"
   ]
  },
  {
   "cell_type": "markdown",
   "metadata": {},
   "source": [
    "**No difference in the length of songs listened to by the 2 groups of users**"
   ]
  },
  {
   "cell_type": "code",
   "execution_count": 48,
   "metadata": {},
   "outputs": [
    {
     "name": "stdout",
     "output_type": "stream",
     "text": [
      "+-----+--------+-----+-------------------+\n",
      "|churn|platform|count|            percent|\n",
      "+-----+--------+-----+-------------------+\n",
      "|    1|   Apple|   23| 0.4423076923076923|\n",
      "|    0|   Apple|   79|0.45664739884393063|\n",
      "|    1|   Linux|    5|0.09615384615384616|\n",
      "|    0|   Linux|    7|0.04046242774566474|\n",
      "|    1| Windows|   24|0.46153846153846156|\n",
      "|    0| Windows|   87| 0.5028901734104047|\n",
      "+-----+--------+-----+-------------------+\n",
      "\n"
     ]
    }
   ],
   "source": [
    "# display the possible values for the platform, extracted from user agent field\n",
    "# prepare a regex extraction function we keep only the first word of the platform\n",
    "re = regexp_extract(\"userAgent\", r'[^(]*\\(([^ ;]*)', 1).alias(\"platform\")\n",
    "\n",
    "# replace the common platforms with an aggregated dataset to identify the technology \"world\" the user lives in\n",
    "platform = df.select([re, \"userId\", \"churn\"]) \\\n",
    "    .replace([\"iPad\", \"iPhone\", \"Macintosh\", \"X11\", \"Windows\", \"compatible\"],\n",
    "             [\"Apple\", \"Apple\", \"Apple\", \"Linux\", \"Windows\", \"Windows\"], \"platform\").dropDuplicates() \\\n",
    "    .groupBy([\"churn\", \"platform\"]).count() \\\n",
    "    .withColumn(\"percent\", col(\"count\")/Fsum(\"count\").over(Window.partitionBy(\"churn\"))) \\\n",
    "    .orderBy(\"platform\")\n",
    "\n",
    "platform.show()"
   ]
  },
  {
   "cell_type": "code",
   "execution_count": 49,
   "metadata": {},
   "outputs": [
    {
     "name": "stderr",
     "output_type": "stream",
     "text": [
      "/Users/mohammed/opt/anaconda3/lib/python3.7/site-packages/ipykernel_launcher.py:9: UserWarning: FixedFormatter should only be used together with FixedLocator\n",
      "  if __name__ == '__main__':\n"
     ]
    },
    {
     "data": {
      "image/png": "[encoded data removed]",
      "text/plain": [
       "<Figure size 576x432 with 1 Axes>"
      ]
     },
     "metadata": {
      "needs_background": "light"
     },
     "output_type": "display_data"
    }
   ],
   "source": [
    "# plot the churn by platform information\n",
    "pd_df = platform.toPandas()\n",
    "\n",
    "pd_df = pd_df.pivot(index='churn', columns='platform', values='percent');\n",
    "pd_df.plot.bar(stacked=True, figsize=(8,6), edgecolor='white');\n",
    "\n",
    "# do some chart formatting\n",
    "plt.ylabel(\"percentage\");\n",
    "plt.gca().set_yticklabels(['{:.0f}%'.format(x*100) for x in plt.gca().get_yticks()]);"
   ]
  },
  {
   "cell_type": "markdown",
   "metadata": {},
   "source": [
    "**It looks like the Linux users are overrepresented in the churn population vs. in the non-churn population. We will display the information differently to confirm this information.**"
   ]
  },
  {
   "cell_type": "code",
   "execution_count": 50,
   "metadata": {},
   "outputs": [
    {
     "name": "stdout",
     "output_type": "stream",
     "text": [
      "+--------+-------------------+-------------------+--------------------+\n",
      "|platform|      churn_percent|   no_churn_percent|               ratio|\n",
      "+--------+-------------------+-------------------+--------------------+\n",
      "|   Linux|0.09615384615384616|0.04046242774566474|  1.3763736263736264|\n",
      "|   Apple| 0.4423076923076923|0.45664739884393063|-0.03140214216163584|\n",
      "| Windows|0.46153846153846156| 0.5028901734104047|-0.08222811671087538|\n",
      "+--------+-------------------+-------------------+--------------------+\n",
      "\n"
     ]
    }
   ],
   "source": [
    "# show the comparison information in a more visual format\n",
    "platform_churn = platform.filter(platform[\"churn\"]==1).select([\"platform\",\"percent\"]).withColumnRenamed('percent','churn_percent')\n",
    "platform_no_churn = platform.filter(platform[\"churn\"]==0).select([\"platform\",\"percent\"]).withColumnRenamed('percent','no_churn_percent')\n",
    "\n",
    "# join the tables to be able to compare the data\n",
    "compare_platform = platform_churn.join(platform_no_churn, on=\"platform\", how=\"outer\")\n",
    "compare_platform = compare_platform.withColumn(\"ratio\", col(\"churn_percent\")/col(\"no_churn_percent\")-1)\n",
    "\n",
    "compare_platform.show()"
   ]
  },
  {
   "cell_type": "code",
   "execution_count": 51,
   "metadata": {
    "scrolled": true
   },
   "outputs": [
    {
     "name": "stdout",
     "output_type": "stream",
     "text": [
      "+------+--------+-----+\n",
      "|userId|platform|count|\n",
      "+------+--------+-----+\n",
      "+------+--------+-----+\n",
      "\n"
     ]
    },
    {
     "data": {
      "text/plain": [
       "0"
      ]
     },
     "execution_count": 51,
     "metadata": {},
     "output_type": "execute_result"
    }
   ],
   "source": [
    "# identify if we have users that use multiple platforms (i.e. bridge across Apple, Windows, Linux worlds)\n",
    "# prepare a regex extraction function\n",
    "re = regexp_extract(\"userAgent\", r'[^(]*\\(([^ ;]*)', 1).alias(\"platform\")\n",
    "\n",
    "# replace the common platforms with an aggregated dataset to identify the technology \"world\" the user lives in\n",
    "platform_count = df.select([\"userId\", re]) \\\n",
    "    .replace([\"iPad\",\"iPhone\",\"Macintosh\",\"X11\",\"Windows\",\"compatible\"],\n",
    "             [\"Apple\",\"Apple\",\"Apple\",\"Linux\",\"Windows\",\"Windows\"], \"platform\") \\\n",
    "    .dropDuplicates() \\\n",
    "    .groupBy([\"userId\", \"platform\"]).count() \\\n",
    "    .filter(col(\"count\")>1)\n",
    "\n",
    "platform_count.show()\n",
    "platform_count.count()"
   ]
  },
  {
   "cell_type": "markdown",
   "metadata": {},
   "source": [
    "**In our dataset we can see users are loyal to their platform of choice, and we have no cross-platform users**"
   ]
  },
  {
   "cell_type": "code",
   "execution_count": 52,
   "metadata": {
    "scrolled": false
   },
   "outputs": [
    {
     "data": {
      "image/png": "[encoded data removed]",
      "text/plain": [
       "<Figure size 576x576 with 1 Axes>"
      ]
     },
     "metadata": {
      "needs_background": "light"
     },
     "output_type": "display_data"
    }
   ],
   "source": [
    "# plot the platforms that are more present in the group of \"Churn\" users\n",
    "pd_df = compare_platform.toPandas().dropna()\n",
    "fig=plt.figure(figsize=(8,8))\n",
    "sns.barplot(x=\"platform\", y=\"ratio\", data=pd_df);"
   ]
  },
  {
   "cell_type": "markdown",
   "metadata": {},
   "source": [
    "**It appears that the Linux users are indeed more likely to be present in the churn group.**"
   ]
  },
  {
   "cell_type": "code",
   "execution_count": 53,
   "metadata": {},
   "outputs": [
    {
     "name": "stdout",
     "output_type": "stream",
     "text": [
      "+-----+------------------+\n",
      "|churn|        avg(count)|\n",
      "+-----+------------------+\n",
      "|    0| 56.95603089720737|\n",
      "|    1|40.392896781354054|\n",
      "+-----+------------------+\n",
      "\n"
     ]
    }
   ],
   "source": [
    "# count the number of songs played per hour on average between churn users and non-churn users\n",
    "get_hour = udf(lambda x: datetime.datetime.fromtimestamp(x / 1000.0). hour)\n",
    "df = df.withColumn(\"hour\", get_hour(df.ts))\n",
    "songs_in_hour = df.filter(df.page == \"NextSong\").groupby([\"userId\", \"churn\", df.hour]).count().orderBy([\"userId\", df.hour.cast(\"float\")])\n",
    "songs_in_hour_avg = songs_in_hour.groupBy(\"churn\").agg(avg(\"count\"))\n",
    "\n",
    "songs_in_hour_avg.show()"
   ]
  },
  {
   "cell_type": "code",
   "execution_count": 54,
   "metadata": {
    "scrolled": true
   },
   "outputs": [
    {
     "data": {
      "image/png": "[encoded data removed]",
      "text/plain": [
       "<Figure size 576x432 with 1 Axes>"
      ]
     },
     "metadata": {
      "needs_background": "light"
     },
     "output_type": "display_data"
    }
   ],
   "source": [
    "# plot the averages number of songs played per hour\n",
    "pd_df = songs_in_hour_avg.toPandas()\n",
    "fig=plt.figure(figsize=(8,6))\n",
    "sns.barplot(x=\"churn\", y=\"avg(count)\", data=pd_df);"
   ]
  },
  {
   "cell_type": "markdown",
   "metadata": {},
   "source": [
    "**The users who are ending up in the churn group, have a lower number of songs played per hour than the other users**"
   ]
  },
  {
   "cell_type": "code",
   "execution_count": 55,
   "metadata": {
    "scrolled": true
   },
   "outputs": [
    {
     "name": "stdout",
     "output_type": "stream",
     "text": [
      "+-----+--------------------+------+--------------------+\n",
      "|churn|                page| count|             percent|\n",
      "+-----+--------------------+------+--------------------+\n",
      "|    0|    Submit Downgrade|    54| 2.31471559003815E-4|\n",
      "|    0|      Submit Upgrade|   127|5.443868146941575E-4|\n",
      "|    0|               Error|   220|  9.4303227742295E-4|\n",
      "|    0|       Save Settings|   252| 0.00108020060868447|\n",
      "|    0|             Upgrade|   387|0.001658879506194...|\n",
      "|    0|               About|   439|0.001881778044493...|\n",
      "|    0|                Help|  1215|0.005208110077585837|\n",
      "|    0|            Settings|  1244| 0.00533241887779159|\n",
      "|    0|           Downgrade|  1718|0.007364224784602855|\n",
      "|    0|         Thumbs Down|  2050|0.008787346221441126|\n",
      "|    0|              Logout|  2673|0.011457842170688843|\n",
      "|    0|         Roll Advert|  2966|0.012713789703802134|\n",
      "|    0|          Add Friend|  3641|0.015607184191349823|\n",
      "|    0|     Add to Playlist|  5488|0.023524368811350678|\n",
      "|    0|                Home|  8410| 0.03604955205966823|\n",
      "|    0|           Thumbs Up| 10692| 0.04583136868275537|\n",
      "|    0|            NextSong|191714|  0.8217840456084702|\n",
      "|    1|    Submit Downgrade|     9|2.006062767475035...|\n",
      "|    1|               Error|    32|7.132667617689016E-4|\n",
      "|    1|      Submit Upgrade|    32|7.132667617689016E-4|\n",
      "|    1|              Cancel|    52|0.001159058487874...|\n",
      "|    1|Cancellation Conf...|    52|0.001159058487874...|\n",
      "|    1|               About|    56|0.001248216833095...|\n",
      "|    1|       Save Settings|    58|0.001292796005706134|\n",
      "|    1|             Upgrade|   112|0.002496433666191...|\n",
      "|    1|                Help|   239|0.005327211126961484|\n",
      "|    1|            Settings|   270|0.006018188302425107|\n",
      "|    1|           Downgrade|   337|0.007511590584878745|\n",
      "|    1|         Thumbs Down|   496|0.011055634807417974|\n",
      "|    1|              Logout|   553| 0.01232614122681883|\n",
      "|    1|          Add Friend|   636|0.014176176890156919|\n",
      "|    1|         Roll Advert|   967|0.021554029957203995|\n",
      "|    1|     Add to Playlist|  1038|0.023136590584878745|\n",
      "|    1|                Home|  1672|0.037268188302425106|\n",
      "|    1|           Thumbs Up|  1859| 0.04143634094151213|\n",
      "|    1|            NextSong| 36394|  0.8112072039942939|\n",
      "+-----+--------------------+------+--------------------+\n",
      "\n"
     ]
    }
   ],
   "source": [
    "# comparison of the pages between the users who churn vs. users who do not churn\n",
    "pages = df.groupBy([\"churn\",\"page\"]).count() \\\n",
    "    .withColumn(\"percent\", col(\"count\")/Fsum(\"count\").over(Window.partitionBy(\"churn\"))) \\\n",
    "    .orderBy([\"churn\",\"percent\"])\n",
    "\n",
    "pages.show(40)"
   ]
  },
  {
   "cell_type": "markdown",
   "metadata": {},
   "source": [
    "**We will have to filter out the \"NextSong\" page, as represent more than 80% of all the pages viewed and will not allow us to read the charts.**"
   ]
  },
  {
   "cell_type": "code",
   "execution_count": 56,
   "metadata": {},
   "outputs": [
    {
     "name": "stderr",
     "output_type": "stream",
     "text": [
      "/Users/mohammed/opt/anaconda3/lib/python3.7/site-packages/ipykernel_launcher.py:9: UserWarning: FixedFormatter should only be used together with FixedLocator\n",
      "  if __name__ == '__main__':\n"
     ]
    },
    {
     "data": {
      "image/png": "[encoded data removed]",
      "text/plain": [
       "<Figure size 864x576 with 1 Axes>"
      ]
     },
     "metadata": {
      "needs_background": "light"
     },
     "output_type": "display_data"
    }
   ],
   "source": [
    "# plot the churn by pages information\n",
    "pd_df = pages.toPandas()\n",
    "fig=plt.figure(figsize=(12,8))\n",
    "sns.barplot(x=\"page\", y=\"percent\", hue=\"churn\", data=pd_df);\n",
    "plt.xticks(rotation=45);\n",
    "\n",
    "# do some chart formatting\n",
    "plt.ylabel(\"percentage\");\n",
    "plt.gca().set_yticklabels(['{:.0f}%'.format(x*100) for x in plt.gca().get_yticks()]);"
   ]
  },
  {
   "cell_type": "markdown",
   "metadata": {},
   "source": [
    "**The NextSong action dominates the dataset. We will be looking at the data from a different perspective, we would like to see what are the pages that are more seen by churn users vs. the non churn users**"
   ]
  },
  {
   "cell_type": "code",
   "execution_count": 57,
   "metadata": {},
   "outputs": [
    {
     "name": "stdout",
     "output_type": "stream",
     "text": [
      "+--------------------+--------------------+--------------------+--------------------+\n",
      "|                page|       churn_percent|    no_churn_percent|               ratio|\n",
      "+--------------------+--------------------+--------------------+--------------------+\n",
      "|              Cancel|0.001159058487874...|                null|                null|\n",
      "|    Submit Downgrade|2.006062767475035...| 2.31471559003815E-4|-0.13334373514027587|\n",
      "|         Thumbs Down|0.011055634807417974|0.008787346221441126|  0.2581312410841654|\n",
      "|                Home|0.037268188302425106| 0.03604955205966823| 0.03380447670306208|\n",
      "|           Downgrade|0.007511590584878745|0.007364224784602855| 0.02001104048100255|\n",
      "|         Roll Advert|0.021554029957203995|0.012713789703802134|  0.6953269213473097|\n",
      "|              Logout| 0.01232614122681883|0.011457842170688843| 0.07578207512329405|\n",
      "|       Save Settings|0.001292796005706134| 0.00108020060868447| 0.19681103242533338|\n",
      "|Cancellation Conf...|0.001159058487874...|                null|                null|\n",
      "|               About|0.001248216833095...|0.001881778044493...| -0.3366822209729674|\n",
      "|            Settings|0.006018188302425107| 0.00533241887779159|  0.1286038175825992|\n",
      "|     Add to Playlist|0.023136590584878745|0.023524368811350678|-0.01648410758994845|\n",
      "|          Add Friend|0.014176176890156919|0.015607184191349823|-0.09168901216569414|\n",
      "|            NextSong|  0.8112072039942939|  0.8217840456084702|-0.01287058524766671|\n",
      "|           Thumbs Up| 0.04143634094151213| 0.04583136868275537|-0.09589562493028769|\n",
      "|                Help|0.005327211126961484|0.005208110077585837|0.022868381735674514|\n",
      "|             Upgrade|0.002496433666191...|0.001658879506194...|  0.5048914986711488|\n",
      "|               Error|7.132667617689016E-4|  9.4303227742295E-4|-0.24364544157696788|\n",
      "|      Submit Upgrade|7.132667617689016E-4|5.443868146941575E-4| 0.31022049490603965|\n",
      "+--------------------+--------------------+--------------------+--------------------+\n",
      "\n"
     ]
    }
   ],
   "source": [
    "# show the comparison information in a more visual format\n",
    "pages_churn = pages.filter(pages[\"churn\"]==1).select([\"page\",\"percent\"]).withColumnRenamed('percent','churn_percent')\n",
    "pages_no_churn = pages.filter(pages[\"churn\"]==0).select([\"page\",\"percent\"]).withColumnRenamed('percent','no_churn_percent')\n",
    "\n",
    "# join the tables to be able to compare the data\n",
    "compare_pages = pages_churn.join(pages_no_churn, on=\"page\", how=\"outer\")\n",
    "compare_pages = compare_pages.withColumn(\"ratio\", col(\"churn_percent\")/col(\"no_churn_percent\")-1)\n",
    "\n",
    "compare_pages.show()"
   ]
  },
  {
   "cell_type": "code",
   "execution_count": 58,
   "metadata": {
    "scrolled": true
   },
   "outputs": [
    {
     "name": "stderr",
     "output_type": "stream",
     "text": [
      "/Users/mohammed/opt/anaconda3/lib/python3.7/site-packages/ipykernel_launcher.py:9: UserWarning: FixedFormatter should only be used together with FixedLocator\n",
      "  if __name__ == '__main__':\n"
     ]
    },
    {
     "data": {
      "image/png": "[encoded data removed]",
      "text/plain": [
       "<Figure size 864x576 with 1 Axes>"
      ]
     },
     "metadata": {
      "needs_background": "light"
     },
     "output_type": "display_data"
    }
   ],
   "source": [
    "# plot the pages that are more viewed in the group of \"Churn\" users\n",
    "pd_df = compare_pages.toPandas().dropna()\n",
    "fig=plt.figure(figsize=(12,8))\n",
    "sns.barplot(x=\"page\", y=\"ratio\", data=pd_df);\n",
    "plt.xticks(rotation=45);\n",
    "\n",
    "# do some chart formatting\n",
    "plt.ylabel(\"ratio\");\n",
    "plt.gca().set_yticklabels(['{:.0f}%'.format(x*100) for x in plt.gca().get_yticks()]);"
   ]
  },
  {
   "cell_type": "markdown",
   "metadata": {},
   "source": [
    "**In the chart above:**\n",
    "* a value above 0 is the ratio of pages that are seen more frequently by the users in the churn group\n",
    "* a value below 0 is the ratio of pages that are seen less frequently in the churn group.\n",
    "\n",
    "\n",
    "**It looks like the following actions are significantly different in their frequency between the 2 groups of users:**\n",
    "\n",
    "* number of Thumbs Down\n",
    "* number of Thumbs Up\n",
    "* number of Roll Advert\n",
    "* number of Add Friend\n",
    "* number of Add to Playlist\n",
    "* number of Upgrade**"
   ]
  },
  {
   "cell_type": "markdown",
   "metadata": {},
   "source": [
    "# Feature Engineering\n",
    "Once you've familiarized yourself with the data, build out the features you find promising to train your model on. To work with the full dataset, you can follow the following steps.\n",
    "- Write a script to extract the necessary features from the smaller subset of data\n",
    "- Ensure that your script is scalable, using the best practices discussed in Lesson 3\n",
    "- Try your script on the full data set, debugging your script if necessary\n",
    "\n",
    "If you are working in the classroom workspace, you can just extract features based on the small subset of data contained here. Be sure to transfer over this work to the larger dataset when you work on your Spark cluster.\n",
    "\n",
    "\n",
    "\n",
    "**We will be selecting the following features that we believe could be useful to classify the data as per the analysis above:**\n",
    "\n",
    "* gender (M/F)\n",
    "* level (free/paid)\n",
    "* number of different artist per user\n",
    "* platform (Apple/Windows/Linux)\n",
    "* number of songs per hour on average\n",
    "* number of Thumbs Down\n",
    "* number of Thumbs Up\n",
    "* number of Roll Advert\n",
    "* number of Add Friend\n",
    "* number of Add to Playlist\n",
    "* number of Upgrade\n",
    "\n",
    "**Each of the single feature columns creation below will show a sample output, as well as the count of rows which should be equal to, or less than (if missing values) the total number of users. This acts as a validation to ensure we are not \"multiplying rows\" for users incorrectly in our transformations, otherwise the joining operation with all individual feature columns will be an issue if we get one of them incorrect in the process.**\n",
    "\n",
    "**We will also check for each feature column that the engineered feature column is of a numeric type, since this is what the ML classifiers will be expecting.**"
   ]
  },
  {
   "cell_type": "code",
   "execution_count": 59,
   "metadata": {
    "scrolled": true
   },
   "outputs": [
    {
     "name": "stdout",
     "output_type": "stream",
     "text": [
      "+------+------+\n",
      "|userId|gender|\n",
      "+------+------+\n",
      "|300001|     0|\n",
      "|100023|     1|\n",
      "|100024|     1|\n",
      "|    78|     0|\n",
      "|    97|     0|\n",
      "+------+------+\n",
      "only showing top 5 rows\n",
      "\n",
      "rows count:  225\n"
     ]
    },
    {
     "data": {
      "text/plain": [
       "DataFrame[userId: string, gender: int]"
      ]
     },
     "execution_count": 59,
     "metadata": {},
     "output_type": "execute_result"
    }
   ],
   "source": [
    "# gender (M/F)\n",
    "df_gender = df.select([\"userId\", \"gender\"]).replace([\"F\",\"M\"],[\"0\",\"1\"],\"gender\").dropDuplicates()\n",
    "\n",
    "# need to convert the 0/1 values to integer number otherwise the spark models will fail\n",
    "df_gender = df_gender.select(\"userId\", df_gender.gender.cast(IntegerType()))\n",
    "\n",
    "df_gender.show(5)\n",
    "print(\"rows count: \", df_gender.count())\n",
    "df_gender"
   ]
  },
  {
   "cell_type": "code",
   "execution_count": 60,
   "metadata": {},
   "outputs": [
    {
     "name": "stdout",
     "output_type": "stream",
     "text": [
      "+------+-----+\n",
      "|userId|level|\n",
      "+------+-----+\n",
      "|100010|    0|\n",
      "|200002|    1|\n",
      "|   125|    0|\n",
      "|   124|    1|\n",
      "|    51|    1|\n",
      "+------+-----+\n",
      "only showing top 5 rows\n",
      "\n",
      "rows count:  225\n"
     ]
    },
    {
     "data": {
      "text/plain": [
       "DataFrame[userId: string, level: int]"
      ]
     },
     "execution_count": 60,
     "metadata": {},
     "output_type": "execute_result"
    }
   ],
   "source": [
    "# level (free/paid)\n",
    "# a user could have multiple levels during his lifetime, so here we will look at its LAST level as of the analysis\n",
    "# (last row in the dataset ordered by time)\n",
    "partition_window = Window.partitionBy([\"userId\"])\n",
    "\n",
    "df_level = df.select(col(\"userId\"), last(\"level\").over(partition_window).alias(\"level\"))\n",
    "df_level = df_level.select([\"userId\", \"level\"]).replace([\"free\",\"paid\"],[\"0\",\"1\"],\"level\").dropDuplicates()\n",
    "\n",
    "# need to convert the 0/1 values to integer number otherwise the spark models will fail\n",
    "df_level = df_level.select(\"userId\", df_level.level.cast(IntegerType()))\n",
    "\n",
    "df_level.show(5)\n",
    "print(\"rows count: \", df_level.count())\n",
    "df_level"
   ]
  },
  {
   "cell_type": "code",
   "execution_count": 61,
   "metadata": {},
   "outputs": [
    {
     "name": "stdout",
     "output_type": "stream",
     "text": [
      "+------+-------------+\n",
      "|userId|artists count|\n",
      "+------+-------------+\n",
      "|100010|          252|\n",
      "|200002|          339|\n",
      "|   125|            8|\n",
      "|    51|         1385|\n",
      "|   124|         2232|\n",
      "+------+-------------+\n",
      "only showing top 5 rows\n",
      "\n",
      "rows count:  225\n"
     ]
    },
    {
     "data": {
      "text/plain": [
       "DataFrame[userId: string, artists count: bigint]"
      ]
     },
     "execution_count": 61,
     "metadata": {},
     "output_type": "execute_result"
    }
   ],
   "source": [
    "# number of different artist per user\n",
    "df_artists = df.filter(df[\"artist\"].isNotNull()) \\\n",
    "    .select([\"userId\", \"artist\"]).dropDuplicates() \\\n",
    "    .groupBy(\"userId\").agg(count(\"artist\").alias(\"artists count\")) \\\n",
    "\n",
    "df_artists.show(5)\n",
    "print(\"rows count: \", df_artists.count())\n",
    "df_artists"
   ]
  },
  {
   "cell_type": "code",
   "execution_count": 62,
   "metadata": {},
   "outputs": [
    {
     "name": "stdout",
     "output_type": "stream",
     "text": [
      "+------+-----+\n",
      "|userId|apple|\n",
      "+------+-----+\n",
      "|100010|    1|\n",
      "|200002|    1|\n",
      "|   125|    1|\n",
      "|   124|    1|\n",
      "|   132|    1|\n",
      "+------+-----+\n",
      "only showing top 5 rows\n",
      "\n",
      "+------+-----+\n",
      "|userId|linux|\n",
      "+------+-----+\n",
      "|200010|    1|\n",
      "|300013|    1|\n",
      "|300007|    1|\n",
      "|200024|    1|\n",
      "|100016|    1|\n",
      "+------+-----+\n",
      "only showing top 5 rows\n",
      "\n",
      "+------+-------+\n",
      "|userId|windows|\n",
      "+------+-------+\n",
      "|    51|      1|\n",
      "|     7|      1|\n",
      "|    15|      1|\n",
      "|    54|      1|\n",
      "|   155|      1|\n",
      "+------+-------+\n",
      "only showing top 5 rows\n",
      "\n",
      "rows count:  225\n"
     ]
    }
   ],
   "source": [
    "# platform (Apple/Windows/Linux)\n",
    "# prepare a regex extraction function\n",
    "re = regexp_extract(\"userAgent\", r'[^(]*\\(([^ ;]*)', 1).alias(\"platform\")\n",
    "\n",
    "# replace the common platforms with an aggregated dataset to identify the technology \"world\" the user lives in\n",
    "df_platform = df.select([\"userId\", re]) \\\n",
    "    .replace([\"iPad\",\"iPhone\",\"Macintosh\",\"X11\",\"Windows\",\"compatible\"],\n",
    "             [\"Apple\",\"Apple\",\"Apple\",\"Linux\",\"Windows\",\"Windows\"], \"platform\").dropDuplicates()\n",
    "\n",
    "# perform some form of one-hot-encoding using the groupBy to give a numeric '1' value for each user, or no entry if they do not use the platform\n",
    "df_apple = df_platform.filter(col(\"platform\") == \"Apple\").groupBy(\"userId\").agg(count(\"platform\").alias(\"apple\"))\n",
    "df_linux = df_platform.filter(col(\"platform\") == \"Linux\").groupBy(\"userId\").agg(count(\"platform\").alias(\"linux\"))\n",
    "df_windows = df_platform.filter(col(\"platform\") == \"Windows\").groupBy(\"userId\").agg(count(\"platform\").alias(\"windows\"))\n",
    "\n",
    "df_apple.show(5)\n",
    "df_linux.show(5)\n",
    "df_windows.show(5)\n",
    "print(\"rows count: \", df_apple.count()+df_linux.count()+df_windows.count())"
   ]
  },
  {
   "cell_type": "code",
   "execution_count": 63,
   "metadata": {},
   "outputs": [
    {
     "name": "stdout",
     "output_type": "stream",
     "text": [
      "+------+------------------+\n",
      "|userId|         avg songs|\n",
      "+------+------------------+\n",
      "|200002| 20.36842105263158|\n",
      "|100010|16.176470588235293|\n",
      "|   125|               8.0|\n",
      "|   124|169.95833333333334|\n",
      "|    51| 87.95833333333333|\n",
      "+------+------------------+\n",
      "only showing top 5 rows\n",
      "\n",
      "rows count:  225\n"
     ]
    },
    {
     "data": {
      "text/plain": [
       "DataFrame[userId: string, avg songs: double]"
      ]
     },
     "execution_count": 63,
     "metadata": {},
     "output_type": "execute_result"
    }
   ],
   "source": [
    "# number of songs per hour on average\n",
    "get_hour = udf(lambda x: datetime.datetime.fromtimestamp(x / 1000.0). hour)\n",
    "df = df.withColumn(\"hour\", get_hour(df.ts))\n",
    "\n",
    "df_avg_songs = df.filter(df.page == \"NextSong\").groupby([\"userId\", df.hour]).count().groupBy(\"userId\").agg(avg(\"count\").alias(\"avg songs\"))\n",
    "\n",
    "df_avg_songs.show(5)\n",
    "print(\"rows count: \", df_avg_songs.count())\n",
    "df_avg_songs"
   ]
  },
  {
   "cell_type": "code",
   "execution_count": 64,
   "metadata": {},
   "outputs": [
    {
     "name": "stdout",
     "output_type": "stream",
     "text": [
      "+------+-----------+\n",
      "|userId|thumbs down|\n",
      "+------+-----------+\n",
      "|100010|          5|\n",
      "|200002|          6|\n",
      "|    51|         21|\n",
      "|   124|         41|\n",
      "|     7|          1|\n",
      "+------+-----------+\n",
      "only showing top 5 rows\n",
      "\n",
      "rows count:  203\n"
     ]
    },
    {
     "data": {
      "text/plain": [
       "DataFrame[userId: string, thumbs down: bigint]"
      ]
     },
     "execution_count": 64,
     "metadata": {},
     "output_type": "execute_result"
    }
   ],
   "source": [
    "# number of Thumbs Down\n",
    "df_thumbs_down = df.filter(df[\"page\"] == \"Thumbs Down\") \\\n",
    "    .groupBy(\"userId\").count() \\\n",
    "    .select(\"userId\", col(\"count\").alias(\"thumbs down\"))\n",
    "\n",
    "df_thumbs_down.show(5)\n",
    "print(\"rows count: \", df_thumbs_down.count())\n",
    "df_thumbs_down"
   ]
  },
  {
   "cell_type": "code",
   "execution_count": 65,
   "metadata": {},
   "outputs": [
    {
     "name": "stdout",
     "output_type": "stream",
     "text": [
      "+------+---------+\n",
      "|userId|thumbs up|\n",
      "+------+---------+\n",
      "|100010|       17|\n",
      "|200002|       21|\n",
      "|    51|      100|\n",
      "|   124|      171|\n",
      "|     7|        7|\n",
      "+------+---------+\n",
      "only showing top 5 rows\n",
      "\n",
      "rows count:  220\n"
     ]
    },
    {
     "data": {
      "text/plain": [
       "DataFrame[userId: string, thumbs up: bigint]"
      ]
     },
     "execution_count": 65,
     "metadata": {},
     "output_type": "execute_result"
    }
   ],
   "source": [
    "# number of Thumbs Up\n",
    "df_thumbs_up = df.filter(df[\"page\"] == \"Thumbs Up\") \\\n",
    "    .groupBy(\"userId\").count() \\\n",
    "    .select(\"userId\", col(\"count\").alias(\"thumbs up\"))\n",
    "\n",
    "df_thumbs_up.show(5)\n",
    "print(\"rows count: \", df_thumbs_up.count())\n",
    "df_thumbs_up"
   ]
  },
  {
   "cell_type": "code",
   "execution_count": 66,
   "metadata": {},
   "outputs": [
    {
     "name": "stdout",
     "output_type": "stream",
     "text": [
      "+------+------+\n",
      "|userId|advert|\n",
      "+------+------+\n",
      "|100010|    52|\n",
      "|200002|     7|\n",
      "|   125|     1|\n",
      "|     7|    16|\n",
      "|   124|     4|\n",
      "+------+------+\n",
      "only showing top 5 rows\n",
      "\n",
      "rows count:  207\n"
     ]
    },
    {
     "data": {
      "text/plain": [
       "DataFrame[userId: string, advert: bigint]"
      ]
     },
     "execution_count": 66,
     "metadata": {},
     "output_type": "execute_result"
    }
   ],
   "source": [
    "# number of Roll Advert\n",
    "df_advert = df.filter(df[\"page\"] == \"Roll Advert\") \\\n",
    "    .groupBy(\"userId\").count() \\\n",
    "    .select(\"userId\", col(\"count\").alias(\"advert\"))\n",
    "\n",
    "df_advert.show(5)\n",
    "print(\"rows count: \", df_advert.count())\n",
    "df_advert"
   ]
  },
  {
   "cell_type": "code",
   "execution_count": 67,
   "metadata": {},
   "outputs": [
    {
     "name": "stdout",
     "output_type": "stream",
     "text": [
      "+------+----------+\n",
      "|userId|add friend|\n",
      "+------+----------+\n",
      "|100010|         4|\n",
      "|200002|         4|\n",
      "|    51|        28|\n",
      "|   124|        74|\n",
      "|     7|         1|\n",
      "+------+----------+\n",
      "only showing top 5 rows\n",
      "\n",
      "rows count:  206\n"
     ]
    },
    {
     "data": {
      "text/plain": [
       "DataFrame[userId: string, add friend: bigint]"
      ]
     },
     "execution_count": 67,
     "metadata": {},
     "output_type": "execute_result"
    }
   ],
   "source": [
    "# number of Add Friend\n",
    "df_add_friend = df.filter(df[\"page\"] == \"Add Friend\") \\\n",
    "    .groupBy(\"userId\").count() \\\n",
    "    .select(\"userId\", col(\"count\").alias(\"add friend\"))\n",
    "\n",
    "df_add_friend.show(5)\n",
    "print(\"rows count: \", df_add_friend.count())\n",
    "df_add_friend"
   ]
  },
  {
   "cell_type": "code",
   "execution_count": 68,
   "metadata": {},
   "outputs": [
    {
     "name": "stdout",
     "output_type": "stream",
     "text": [
      "+------+------------+\n",
      "|userId|add playlist|\n",
      "+------+------------+\n",
      "|100010|           7|\n",
      "|200002|           8|\n",
      "|    51|          52|\n",
      "|   124|         118|\n",
      "|     7|           5|\n",
      "+------+------------+\n",
      "only showing top 5 rows\n",
      "\n",
      "rows count:  215\n"
     ]
    },
    {
     "data": {
      "text/plain": [
       "DataFrame[userId: string, add playlist: bigint]"
      ]
     },
     "execution_count": 68,
     "metadata": {},
     "output_type": "execute_result"
    }
   ],
   "source": [
    "# number of Add to Playlist\n",
    "df_add_playlist = df.filter(df[\"page\"] == \"Add to Playlist\") \\\n",
    "    .groupBy(\"userId\").count() \\\n",
    "    .select(\"userId\", col(\"count\").alias(\"add playlist\"))\n",
    "\n",
    "df_add_playlist.show(5)\n",
    "print(\"rows count: \", df_add_playlist.count())\n",
    "df_add_playlist"
   ]
  },
  {
   "cell_type": "code",
   "execution_count": 69,
   "metadata": {},
   "outputs": [
    {
     "name": "stdout",
     "output_type": "stream",
     "text": [
      "+------+-------+\n",
      "|userId|upgrade|\n",
      "+------+-------+\n",
      "|100010|      2|\n",
      "|200002|      2|\n",
      "|     7|      2|\n",
      "|    54|      1|\n",
      "|   155|      2|\n",
      "+------+-------+\n",
      "only showing top 5 rows\n",
      "\n",
      "rows count:  168\n"
     ]
    },
    {
     "data": {
      "text/plain": [
       "DataFrame[userId: string, upgrade: bigint]"
      ]
     },
     "execution_count": 69,
     "metadata": {},
     "output_type": "execute_result"
    }
   ],
   "source": [
    "# number of Upgrade\n",
    "df_upgrade = df.filter(df[\"page\"] == \"Upgrade\") \\\n",
    "    .groupBy(\"userId\").count() \\\n",
    "    .select(\"userId\", col(\"count\").alias(\"upgrade\"))\n",
    "\n",
    "df_upgrade.show(5)\n",
    "print(\"rows count: \", df_upgrade.count())\n",
    "df_upgrade"
   ]
  },
  {
   "cell_type": "code",
   "execution_count": 70,
   "metadata": {},
   "outputs": [
    {
     "name": "stdout",
     "output_type": "stream",
     "text": [
      "+------+-----+\n",
      "|userId|churn|\n",
      "+------+-----+\n",
      "|100010|    0|\n",
      "|200002|    0|\n",
      "|   125|    1|\n",
      "|   124|    0|\n",
      "|    51|    1|\n",
      "+------+-----+\n",
      "only showing top 5 rows\n",
      "\n",
      "rows count:  225\n"
     ]
    },
    {
     "data": {
      "text/plain": [
       "DataFrame[userId: string, churn: bigint]"
      ]
     },
     "execution_count": 70,
     "metadata": {},
     "output_type": "execute_result"
    }
   ],
   "source": [
    "# identify churn as the label\n",
    "df_churn = df.select([\"userId\", \"churn\"]).dropDuplicates()\n",
    "\n",
    "df_churn.show(5)\n",
    "print(\"rows count: \", df_churn.count())\n",
    "df_churn"
   ]
  },
  {
   "cell_type": "code",
   "execution_count": 71,
   "metadata": {},
   "outputs": [
    {
     "name": "stdout",
     "output_type": "stream",
     "text": [
      "+------+------+-----+-------------+-----+-----+-------+------------------+-----------+---------+------+----------+------------+-------+-----+\n",
      "|userId|gender|level|artists count|apple|linux|windows|         avg songs|thumbs down|thumbs up|advert|add friend|add playlist|upgrade|churn|\n",
      "+------+------+-----+-------------+-----+-----+-------+------------------+-----------+---------+------+----------+------------+-------+-----+\n",
      "|100010|     0|    0|          252|    1| null|   null|16.176470588235293|          5|       17|    52|         4|           7|      2|    0|\n",
      "|200002|     1|    1|          339|    1| null|   null| 20.36842105263158|          6|       21|     7|         4|           8|      2|    0|\n",
      "|   125|     1|    0|            8|    1| null|   null|               8.0|       null|     null|     1|      null|        null|   null|    1|\n",
      "|   124|     0|    1|         2232|    1| null|   null|169.95833333333334|         41|      171|     4|        74|         118|   null|    0|\n",
      "|    51|     1|    1|         1385| null| null|      1| 87.95833333333333|         21|      100|  null|        28|          52|   null|    1|\n",
      "|     7|     1|    0|          142| null| null|      1|10.714285714285714|          1|        7|    16|         1|           5|      2|    0|\n",
      "|    15|     1|    1|         1302| null| null|      1|             79.75|         14|       81|     1|        31|          59|   null|    0|\n",
      "|    54|     0|    1|         1744| null| null|      1|           118.375|         29|      163|    47|        33|          72|      1|    1|\n",
      "|   155|     0|    1|          643| null| null|      1| 37.27272727272727|          3|       58|     8|        11|          24|      2|    0|\n",
      "|100014|     1|    1|          233| null| null|      1|21.416666666666668|          3|       17|     2|         6|           7|   null|    1|\n",
      "|   132|     0|    1|         1299|    1| null|   null| 80.33333333333333|         17|       96|     2|        41|          38|      1|    0|\n",
      "|   154|     0|    0|           78| null| null|      1|              10.5|       null|       11|    10|         3|           1|   null|    0|\n",
      "|   101|     1|    1|         1241| null| null|      1|            74.875|         16|       86|     8|        29|          61|      1|    1|\n",
      "|    11|     0|    1|          534| null| null|      1|26.958333333333332|          9|       40|    39|         6|          20|      9|    0|\n",
      "|   138|     1|    1|         1332|    1| null|   null|             86.25|         24|       95|    17|        41|          67|      1|    0|\n",
      "|300017|     0|    1|         2070|    1| null|   null|151.33333333333334|         28|      303|    11|        63|         113|   null|    0|\n",
      "|100021|     1|    0|          207|    1| null|   null|            14.375|          5|       11|    30|         7|           7|      2|    1|\n",
      "|    29|     1|    1|         1804|    1| null|   null|126.16666666666667|         22|      154|    22|        47|          89|      5|    1|\n",
      "|    69|     0|    1|          865| null| null|      1|            46.875|          9|       72|     3|        12|          33|      1|    0|\n",
      "|   112|     1|    0|          195| null| null|      1|              21.5|          3|        9|    21|         7|           7|      2|    0|\n",
      "+------+------+-----+-------------+-----+-----+-------+------------------+-----------+---------+------+----------+------------+-------+-----+\n",
      "only showing top 20 rows\n",
      "\n",
      "rows count:  225\n"
     ]
    },
    {
     "data": {
      "text/plain": [
       "DataFrame[userId: string, gender: int, level: int, artists count: bigint, apple: bigint, linux: bigint, windows: bigint, avg songs: double, thumbs down: bigint, thumbs up: bigint, advert: bigint, add friend: bigint, add playlist: bigint, upgrade: bigint, churn: bigint]"
      ]
     },
     "execution_count": 71,
     "metadata": {},
     "output_type": "execute_result"
    }
   ],
   "source": [
    "# merge all the individual features into a single dataframe\n",
    "df_features = df_gender \\\n",
    "    .join(df_level, on=\"userId\", how=\"outer\") \\\n",
    "    .join(df_artists, on=\"userId\", how=\"outer\") \\\n",
    "    .join(df_apple, on=\"userId\", how=\"outer\") \\\n",
    "    .join(df_linux, on=\"userId\", how=\"outer\") \\\n",
    "    .join(df_windows, on=\"userId\", how=\"outer\") \\\n",
    "    .join(df_avg_songs, on=\"userId\", how=\"outer\") \\\n",
    "    .join(df_thumbs_down, on=\"userId\", how=\"outer\") \\\n",
    "    .join(df_thumbs_up, on=\"userId\", how=\"outer\") \\\n",
    "    .join(df_advert, on=\"userId\", how=\"outer\") \\\n",
    "    .join(df_add_friend, on=\"userId\", how=\"outer\") \\\n",
    "    .join(df_add_playlist, on=\"userId\", how=\"outer\") \\\n",
    "    .join(df_upgrade, on=\"userId\", how=\"outer\") \\\n",
    "    .join(df_churn, on=\"userId\", how=\"outer\")\n",
    "\n",
    "df_features.show()\n",
    "print(\"rows count: \", df_features.count())\n",
    "df_features"
   ]
  },
  {
   "cell_type": "code",
   "execution_count": 72,
   "metadata": {
    "scrolled": true
   },
   "outputs": [
    {
     "name": "stdout",
     "output_type": "stream",
     "text": [
      "+------+------+-----+-------------+-----+-----+-------+------------------+-----------+---------+------+----------+------------+-------+-----+\n",
      "|userId|gender|level|artists count|apple|linux|windows|         avg songs|thumbs down|thumbs up|advert|add friend|add playlist|upgrade|churn|\n",
      "+------+------+-----+-------------+-----+-----+-------+------------------+-----------+---------+------+----------+------------+-------+-----+\n",
      "|100010|     0|    0|          252|    1|    0|      0|16.176470588235293|          5|       17|    52|         4|           7|      2|    0|\n",
      "|200002|     1|    1|          339|    1|    0|      0| 20.36842105263158|          6|       21|     7|         4|           8|      2|    0|\n",
      "|   125|     1|    0|            8|    1|    0|      0|               8.0|          0|        0|     1|         0|           0|      0|    1|\n",
      "|   124|     0|    1|         2232|    1|    0|      0|169.95833333333334|         41|      171|     4|        74|         118|      0|    0|\n",
      "|    51|     1|    1|         1385|    0|    0|      1| 87.95833333333333|         21|      100|     0|        28|          52|      0|    1|\n",
      "|     7|     1|    0|          142|    0|    0|      1|10.714285714285714|          1|        7|    16|         1|           5|      2|    0|\n",
      "|    15|     1|    1|         1302|    0|    0|      1|             79.75|         14|       81|     1|        31|          59|      0|    0|\n",
      "|    54|     0|    1|         1744|    0|    0|      1|           118.375|         29|      163|    47|        33|          72|      1|    1|\n",
      "|   155|     0|    1|          643|    0|    0|      1| 37.27272727272727|          3|       58|     8|        11|          24|      2|    0|\n",
      "|100014|     1|    1|          233|    0|    0|      1|21.416666666666668|          3|       17|     2|         6|           7|      0|    1|\n",
      "|   132|     0|    1|         1299|    1|    0|      0| 80.33333333333333|         17|       96|     2|        41|          38|      1|    0|\n",
      "|   154|     0|    0|           78|    0|    0|      1|              10.5|          0|       11|    10|         3|           1|      0|    0|\n",
      "|   101|     1|    1|         1241|    0|    0|      1|            74.875|         16|       86|     8|        29|          61|      1|    1|\n",
      "|    11|     0|    1|          534|    0|    0|      1|26.958333333333332|          9|       40|    39|         6|          20|      9|    0|\n",
      "|   138|     1|    1|         1332|    1|    0|      0|             86.25|         24|       95|    17|        41|          67|      1|    0|\n",
      "|300017|     0|    1|         2070|    1|    0|      0|151.33333333333334|         28|      303|    11|        63|         113|      0|    0|\n",
      "|100021|     1|    0|          207|    1|    0|      0|            14.375|          5|       11|    30|         7|           7|      2|    1|\n",
      "|    29|     1|    1|         1804|    1|    0|      0|126.16666666666667|         22|      154|    22|        47|          89|      5|    1|\n",
      "|    69|     0|    1|          865|    0|    0|      1|            46.875|          9|       72|     3|        12|          33|      1|    0|\n",
      "|   112|     1|    0|          195|    0|    0|      1|              21.5|          3|        9|    21|         7|           7|      2|    0|\n",
      "+------+------+-----+-------------+-----+-----+-------+------------------+-----------+---------+------+----------+------------+-------+-----+\n",
      "only showing top 20 rows\n",
      "\n"
     ]
    },
    {
     "data": {
      "text/plain": [
       "DataFrame[userId: string, gender: int, level: int, artists count: bigint, apple: bigint, linux: bigint, windows: bigint, avg songs: double, thumbs down: bigint, thumbs up: bigint, advert: bigint, add friend: bigint, add playlist: bigint, upgrade: bigint, churn: bigint]"
      ]
     },
     "execution_count": 72,
     "metadata": {},
     "output_type": "execute_result"
    }
   ],
   "source": [
    "# remove the null values in the final dataframe as not all values are filled in for all users\n",
    "df_features = df_features.fillna(0)\n",
    "\n",
    "df_features.show()\n",
    "df_features"
   ]
  },
  {
   "cell_type": "code",
   "execution_count": 73,
   "metadata": {},
   "outputs": [
    {
     "name": "stdout",
     "output_type": "stream",
     "text": [
      "root\n",
      " |-- userId: string (nullable = true)\n",
      " |-- gender: integer (nullable = true)\n",
      " |-- level: integer (nullable = true)\n",
      " |-- artists count: long (nullable = true)\n",
      " |-- apple: long (nullable = true)\n",
      " |-- linux: long (nullable = true)\n",
      " |-- windows: long (nullable = true)\n",
      " |-- avg songs: double (nullable = false)\n",
      " |-- thumbs down: long (nullable = true)\n",
      " |-- thumbs up: long (nullable = true)\n",
      " |-- advert: long (nullable = true)\n",
      " |-- add friend: long (nullable = true)\n",
      " |-- add playlist: long (nullable = true)\n",
      " |-- upgrade: long (nullable = true)\n",
      " |-- churn: long (nullable = true)\n",
      "\n"
     ]
    }
   ],
   "source": [
    "df_features.printSchema()"
   ]
  },
  {
   "cell_type": "markdown",
   "metadata": {},
   "source": [
    "# Modeling\n",
    "Split the full dataset into train, test, and validation sets. Test out several of the machine learning methods you learned. Evaluate the accuracy of the various models, tuning parameters as necessary. Determine your winning model based on test accuracy and report results on the validation set. Since the churned users are a fairly small subset, I suggest using F1 score as the metric to optimize.\n",
    "\n",
    "\n",
    "**We will now split the full dataset into train, test, and validation sets. We will test out a few machine learning methods and evaluate their accuracy using the F1 score as the metric to optimize. This is due to the fact the churned users are quite a small subset of the data.**\n",
    "\n",
    "**The models we will be using are:**\n",
    "\n",
    "- Random Forest Classifier\n",
    "- Logistic Regression\n",
    "- Gradient-Boosted Trees\n",
    "- Multiplayer Perceptron Classifier\n",
    "\n",
    "**We will then identify the model that gives the highest accuracy, run it with different parameters to try to optimise it further and finally evaluate the model with tuned parameters on the validation set.**"
   ]
  },
  {
   "cell_type": "code",
   "execution_count": 75,
   "metadata": {},
   "outputs": [
    {
     "name": "stdout",
     "output_type": "stream",
     "text": [
      "samples in train set: 123\n",
      "samples in test set: 49\n",
      "samples in validation set: 53\n"
     ]
    }
   ],
   "source": [
    "# Split the feature set into train (60%), test (20%) and validation (20%) sets\n",
    "train, test, valid = df_features.randomSplit([0.6, 0.2, 0.2], 1234)\n",
    "\n",
    "print(\"samples in train set:\", train.count())\n",
    "print(\"samples in test set:\", test.count())\n",
    "print(\"samples in validation set:\", valid.count())"
   ]
  },
  {
   "cell_type": "code",
   "execution_count": 76,
   "metadata": {},
   "outputs": [
    {
     "data": {
      "text/plain": [
       "['gender',\n",
       " 'level',\n",
       " 'artists count',\n",
       " 'apple',\n",
       " 'linux',\n",
       " 'windows',\n",
       " 'avg songs',\n",
       " 'thumbs down',\n",
       " 'thumbs up',\n",
       " 'advert',\n",
       " 'add friend',\n",
       " 'add playlist',\n",
       " 'upgrade']"
      ]
     },
     "execution_count": 76,
     "metadata": {},
     "output_type": "execute_result"
    }
   ],
   "source": [
    "# combine the features into a vector\n",
    "input_cols = df_features.columns\n",
    "input_cols.remove(\"userId\")    # remove this string value as it is not useful for the classification\n",
    "input_cols.remove(\"churn\")     # remove the label as it will be handled separately\n",
    "\n",
    "assembler = VectorAssembler(inputCols=input_cols, outputCol=\"features\")\n",
    "input_cols"
   ]
  },
  {
   "cell_type": "code",
   "execution_count": 77,
   "metadata": {},
   "outputs": [],
   "source": [
    "# our pipeline will use normalization to ensure data for different features is comparable\n",
    "scaler = Normalizer(inputCol=\"features\", outputCol=\"scaled_features\")"
   ]
  },
  {
   "cell_type": "markdown",
   "metadata": {},
   "source": [
    "### Model 1: Random Forest Classifier"
   ]
  },
  {
   "cell_type": "code",
   "execution_count": 78,
   "metadata": {},
   "outputs": [],
   "source": [
    "# create a Random Forest classifier\n",
    "rf = RandomForestClassifier(labelCol=\"churn\", featuresCol=\"scaled_features\", seed=1234)"
   ]
  },
  {
   "cell_type": "code",
   "execution_count": 79,
   "metadata": {},
   "outputs": [],
   "source": [
    "# build pipeline\n",
    "rf_pipeline = Pipeline(stages = [assembler, scaler, rf])\n",
    "\n",
    "# train the model\n",
    "model = rf_pipeline.fit(train)\n",
    "\n",
    "# predict churn\n",
    "preds = model.transform(test)"
   ]
  },
  {
   "cell_type": "code",
   "execution_count": 80,
   "metadata": {},
   "outputs": [
    {
     "name": "stdout",
     "output_type": "stream",
     "text": [
      "+----------+-----+\n",
      "|prediction|churn|\n",
      "+----------+-----+\n",
      "|       0.0|    0|\n",
      "|       0.0|    0|\n",
      "|       0.0|    1|\n",
      "|       0.0|    0|\n",
      "|       0.0|    0|\n",
      "|       0.0|    1|\n",
      "|       0.0|    1|\n",
      "|       0.0|    0|\n",
      "|       0.0|    0|\n",
      "|       0.0|    0|\n",
      "|       0.0|    0|\n",
      "|       0.0|    0|\n",
      "|       0.0|    0|\n",
      "|       0.0|    0|\n",
      "|       0.0|    0|\n",
      "|       0.0|    0|\n",
      "|       0.0|    0|\n",
      "|       0.0|    0|\n",
      "|       0.0|    0|\n",
      "|       0.0|    0|\n",
      "+----------+-----+\n",
      "only showing top 20 rows\n",
      "\n"
     ]
    }
   ],
   "source": [
    "# Select example rows to display.\n",
    "preds.select(\"prediction\", \"churn\").show()"
   ]
  },
  {
   "cell_type": "code",
   "execution_count": 81,
   "metadata": {},
   "outputs": [
    {
     "name": "stdout",
     "output_type": "stream",
     "text": [
      "f1 score:  0.7716229348882411\n",
      "accuracy:  0.7959183673469388\n"
     ]
    }
   ],
   "source": [
    "# Select (prediction, true label) and compute f1 score\n",
    "evaluator = MulticlassClassificationEvaluator(labelCol=\"churn\", predictionCol=\"prediction\", metricName=\"f1\")\n",
    "\n",
    "# show the F1 score\n",
    "rf_score = evaluator.evaluate(preds)\n",
    "print(\"f1 score: \", rf_score)\n",
    "\n",
    "# compute the accuracy\n",
    "rf_accuracy = preds.filter(preds.churn == preds.prediction).count() / preds.count()\n",
    "print(\"accuracy: \", rf_accuracy)"
   ]
  },
  {
   "cell_type": "code",
   "execution_count": 82,
   "metadata": {},
   "outputs": [
    {
     "data": {
      "image/png": "[encoded data removed]",
      "text/plain": [
       "<Figure size 432x288 with 1 Axes>"
      ]
     },
     "metadata": {
      "needs_background": "light"
     },
     "output_type": "display_data"
    }
   ],
   "source": [
    "# display the features importance for the model\n",
    "rf_model = model.stages[2].featureImportances\n",
    "plt.barh(y=input_cols, width=rf_model.values);"
   ]
  },
  {
   "cell_type": "markdown",
   "metadata": {},
   "source": [
    "### Model 2: Logistic Regression"
   ]
  },
  {
   "cell_type": "code",
   "execution_count": 83,
   "metadata": {},
   "outputs": [],
   "source": [
    "# create a Logistic Regression\n",
    "lr = LogisticRegression(labelCol=\"churn\", featuresCol=\"scaled_features\")"
   ]
  },
  {
   "cell_type": "code",
   "execution_count": 84,
   "metadata": {},
   "outputs": [],
   "source": [
    "# build pipeline\n",
    "lr_pipeline = Pipeline(stages = [assembler, scaler, lr])\n",
    "\n",
    "# train the model\n",
    "model = lr_pipeline.fit(train)\n",
    "\n",
    "# predict churn\n",
    "preds = model.transform(test)"
   ]
  },
  {
   "cell_type": "code",
   "execution_count": 85,
   "metadata": {},
   "outputs": [
    {
     "name": "stdout",
     "output_type": "stream",
     "text": [
      "+----------+-----+\n",
      "|prediction|churn|\n",
      "+----------+-----+\n",
      "|       0.0|    0|\n",
      "|       0.0|    0|\n",
      "|       0.0|    1|\n",
      "|       0.0|    0|\n",
      "|       0.0|    0|\n",
      "|       0.0|    1|\n",
      "|       0.0|    1|\n",
      "|       0.0|    0|\n",
      "|       0.0|    0|\n",
      "|       0.0|    0|\n",
      "|       0.0|    0|\n",
      "|       0.0|    0|\n",
      "|       0.0|    0|\n",
      "|       0.0|    0|\n",
      "|       0.0|    0|\n",
      "|       0.0|    0|\n",
      "|       0.0|    0|\n",
      "|       0.0|    0|\n",
      "|       0.0|    0|\n",
      "|       0.0|    0|\n",
      "+----------+-----+\n",
      "only showing top 20 rows\n",
      "\n"
     ]
    }
   ],
   "source": [
    "# Select example rows to display.\n",
    "preds.select(\"prediction\", \"churn\").show()"
   ]
  },
  {
   "cell_type": "code",
   "execution_count": 86,
   "metadata": {},
   "outputs": [
    {
     "name": "stdout",
     "output_type": "stream",
     "text": [
      "f1 score:  0.7024205030849549\n",
      "accuracy:  0.7551020408163265\n"
     ]
    }
   ],
   "source": [
    "# Select (prediction, true label) and compute f1 score\n",
    "evaluator = MulticlassClassificationEvaluator(labelCol=\"churn\", predictionCol=\"prediction\", metricName=\"f1\")\n",
    "\n",
    "# show the F1 score\n",
    "lr_score = evaluator.evaluate(preds)\n",
    "print(\"f1 score: \", lr_score)\n",
    "\n",
    "# compute the accuracy\n",
    "lr_accuracy = preds.filter(preds.churn == preds.prediction).count() / preds.count()\n",
    "print(\"accuracy: \", lr_accuracy)"
   ]
  },
  {
   "cell_type": "code",
   "execution_count": 87,
   "metadata": {},
   "outputs": [
    {
     "name": "stdout",
     "output_type": "stream",
     "text": [
      "intercept vector:  [-1.0770414225017533]\n"
     ]
    },
    {
     "data": {
      "image/png": "[encoded data removed]",
      "text/plain": [
       "<Figure size 432x288 with 1 Axes>"
      ]
     },
     "metadata": {
      "needs_background": "light"
     },
     "output_type": "display_data"
    }
   ],
   "source": [
    "# display the coefficients for the model\n",
    "lr_model = model.stages[2].coefficientMatrix\n",
    "plt.barh(y=input_cols, width=lr_model.values);\n",
    "\n",
    "print(\"intercept vector: \", model.stages[2].interceptVector)"
   ]
  },
  {
   "cell_type": "markdown",
   "metadata": {},
   "source": [
    "### Model 3: Gradient-Boosted Trees Classifier"
   ]
  },
  {
   "cell_type": "code",
   "execution_count": 88,
   "metadata": {},
   "outputs": [],
   "source": [
    "# create a Gradient-Boosted Trees classifier\n",
    "gbt = GBTClassifier(labelCol=\"churn\", featuresCol=\"scaled_features\", seed=1234)"
   ]
  },
  {
   "cell_type": "code",
   "execution_count": 89,
   "metadata": {},
   "outputs": [],
   "source": [
    "# build pipeline\n",
    "gbt_pipeline = Pipeline(stages = [assembler, scaler, gbt])\n",
    "\n",
    "# train the model\n",
    "model = gbt_pipeline.fit(train)\n",
    "\n",
    "# predict churn\n",
    "preds = model.transform(test)"
   ]
  },
  {
   "cell_type": "code",
   "execution_count": 90,
   "metadata": {},
   "outputs": [
    {
     "name": "stdout",
     "output_type": "stream",
     "text": [
      "+----------+-----+\n",
      "|prediction|churn|\n",
      "+----------+-----+\n",
      "|       0.0|    0|\n",
      "|       0.0|    0|\n",
      "|       0.0|    1|\n",
      "|       0.0|    0|\n",
      "|       0.0|    0|\n",
      "|       0.0|    1|\n",
      "|       0.0|    1|\n",
      "|       0.0|    0|\n",
      "|       0.0|    0|\n",
      "|       0.0|    0|\n",
      "|       0.0|    0|\n",
      "|       0.0|    0|\n",
      "|       0.0|    0|\n",
      "|       0.0|    0|\n",
      "|       0.0|    0|\n",
      "|       0.0|    0|\n",
      "|       0.0|    0|\n",
      "|       1.0|    0|\n",
      "|       0.0|    0|\n",
      "|       0.0|    0|\n",
      "+----------+-----+\n",
      "only showing top 20 rows\n",
      "\n"
     ]
    }
   ],
   "source": [
    "# Select example rows to display.\n",
    "preds.select(\"prediction\", \"churn\").show()"
   ]
  },
  {
   "cell_type": "code",
   "execution_count": 91,
   "metadata": {},
   "outputs": [
    {
     "name": "stdout",
     "output_type": "stream",
     "text": [
      "f1 score:  0.7702933025061878\n",
      "accuracy:  0.7755102040816326\n"
     ]
    }
   ],
   "source": [
    "# Select (prediction, true label) and compute f1 score\n",
    "evaluator = MulticlassClassificationEvaluator(labelCol=\"churn\", predictionCol=\"prediction\", metricName=\"f1\")\n",
    "\n",
    "# show the F1 score\n",
    "gbt_score = evaluator.evaluate(preds)\n",
    "print(\"f1 score: \", gbt_score)\n",
    "\n",
    "# compute the accuracy\n",
    "gbt_accuracy = preds.filter(preds.churn == preds.prediction).count() / preds.count()\n",
    "print(\"accuracy: \", gbt_accuracy)"
   ]
  },
  {
   "cell_type": "code",
   "execution_count": 92,
   "metadata": {},
   "outputs": [
    {
     "data": {
      "image/png": "[encoded data removed]",
      "text/plain": [
       "<Figure size 432x288 with 1 Axes>"
      ]
     },
     "metadata": {
      "needs_background": "light"
     },
     "output_type": "display_data"
    }
   ],
   "source": [
    "# display the features importance for the model\n",
    "gbt_model = model.stages[2].featureImportances\n",
    "plt.barh(y=input_cols, width=gbt_model.values);"
   ]
  },
  {
   "cell_type": "markdown",
   "metadata": {},
   "source": [
    "### Model 4: Multilayer Perceptron Classifier"
   ]
  },
  {
   "cell_type": "code",
   "execution_count": 93,
   "metadata": {},
   "outputs": [],
   "source": [
    "# create a Multilayer Perceptron classifier\n",
    "mlp = MultilayerPerceptronClassifier(labelCol=\"churn\", featuresCol=\"scaled_features\", layers=[13, 25, 25, 10, 2], seed=1234)"
   ]
  },
  {
   "cell_type": "code",
   "execution_count": 94,
   "metadata": {},
   "outputs": [],
   "source": [
    "# build pipeline\n",
    "mlp_pipeline = Pipeline(stages = [assembler, scaler, mlp])\n",
    "\n",
    "# train the model\n",
    "model = mlp_pipeline.fit(train)\n",
    "\n",
    "# predict churn\n",
    "preds = model.transform(test)"
   ]
  },
  {
   "cell_type": "code",
   "execution_count": 95,
   "metadata": {},
   "outputs": [
    {
     "name": "stdout",
     "output_type": "stream",
     "text": [
      "+----------+-----+\n",
      "|prediction|churn|\n",
      "+----------+-----+\n",
      "|       0.0|    0|\n",
      "|       0.0|    0|\n",
      "|       0.0|    1|\n",
      "|       0.0|    0|\n",
      "|       0.0|    0|\n",
      "|       1.0|    1|\n",
      "|       0.0|    1|\n",
      "|       0.0|    0|\n",
      "|       0.0|    0|\n",
      "|       0.0|    0|\n",
      "|       0.0|    0|\n",
      "|       0.0|    0|\n",
      "|       0.0|    0|\n",
      "|       0.0|    0|\n",
      "|       0.0|    0|\n",
      "|       0.0|    0|\n",
      "|       0.0|    0|\n",
      "|       0.0|    0|\n",
      "|       0.0|    0|\n",
      "|       0.0|    0|\n",
      "+----------+-----+\n",
      "only showing top 20 rows\n",
      "\n"
     ]
    }
   ],
   "source": [
    "# Select example rows to display.\n",
    "preds.select(\"prediction\", \"churn\").show()"
   ]
  },
  {
   "cell_type": "code",
   "execution_count": 96,
   "metadata": {},
   "outputs": [
    {
     "name": "stdout",
     "output_type": "stream",
     "text": [
      "f1 score:  0.8172983479105927\n",
      "accuracy:  0.8367346938775511\n"
     ]
    }
   ],
   "source": [
    "# Select (prediction, true label) and compute f1 score\n",
    "evaluator = MulticlassClassificationEvaluator(labelCol=\"churn\", predictionCol=\"prediction\", metricName=\"f1\")\n",
    "\n",
    "# show the F1 score\n",
    "mlp_score = evaluator.evaluate(preds)\n",
    "print(\"f1 score: \", mlp_score)\n",
    "\n",
    "# compute the accuracy\n",
    "mlp_accuracy = preds.filter(preds.churn == preds.prediction).count() / preds.count()\n",
    "print(\"accuracy: \", mlp_accuracy)"
   ]
  },
  {
   "cell_type": "code",
   "execution_count": 97,
   "metadata": {},
   "outputs": [
    {
     "data": {
      "text/plain": [
       "DenseVector([0.5963, 0.7251, -0.1248, -1.2703, 0.6927, 0.1433, -1.7031, -0.0006, -0.1362, 0.4171, 0.471, -0.9853, -0.3195, -0.5694, -0.364, 0.2846, -0.7046, 0.7312, 0.0552, -0.764, -0.9726, 0.4515, -0.7656, 0.4021, -1.4817, -2.7623, 1.5432, 0.296, -1.2601, 1.0163, -0.1509, 0.9402, 0.4146, 0.2096, 1.4046, -0.9857, -1.0544, -0.9168, -2.0227, -0.5067, 0.5104, 1.1027, 2.0234, -2.0827, 1.1012, 1.6865, -0.5221, -1.9525, -0.4567, -2.3895, 9.4373, -3.3947, 4.303, 6.1095, -12.6995, -0.4749, 0.4118, -0.5639, 2.0847, -3.4227, 1.5485, 3.3947, 4.1246, 9.206, -0.0751, -1.4127, -0.437, -21.9135, 5.3626, -0.0098, 0.4449, -3.4578, 6.3245, -4.324, 9.1223, 1.2075, -0.3768, 0.0913, 0.8538, -0.3842, 0.1145, 0.153, -0.73, 0.3862, -1.0105, 0.4043, 1.0253, 0.3893, 1.641, 0.5597, -0.0614, -0.7798, -1.5454, 0.3373, 0.1593, -1.104, 0.6184, 1.4732, -0.3035, 0.699, -5.1375, 2.0034, -0.2091, -0.781, 2.2438, 0.2144, 0.6738, 0.597, 0.397, 1.1848, -1.2633, -1.4768, -1.4839, -4.4376, -0.9929, 1.7989, 0.9915, 4.6791, -2.5498, 0.1688, 1.5066, -0.9198, -4.2187, -0.0193, -3.1173, 0.0787, -0.1593, -0.1309, -1.2948, 0.7556, -0.2286, -0.943, -0.7669, -0.2117, 0.7242, -0.171, -0.6727, 0.0276, -1.5076, -0.4305, 0.6348, -1.1201, 1.0577, 0.19, -0.7153, -1.3411, 1.048, -0.5929, 0.7023, -1.4108, -30.8756, 13.0826, -7.5377, -18.4922, 23.8812, 0.178, -5.7647, -0.4491, -2.9529, 12.8564, -2.5112, -14.2662, -11.9678, -33.8757, -4.0825, 18.6532, 0.6483, 31.1199, -9.4791, 2.3641, 2.9896, 4.4296, -28.7331, 5.7775, -29.8314, -13.7064, 4.6017, -0.5763, -4.7732, 8.1232, -0.6159, 2.3975, 0.4766, 0.1431, 5.0749, -2.1205, -4.1868, -4.3425, -11.9657, -2.8537, 4.512, 2.2199, 12.422, -7.3272, 1.5414, 4.5293, -1.079, -11.3389, 0.1707, -9.8304, 6.0722, -2.7124, 1.5679, 2.595, -4.412, 0.6826, -0.382, 0.2999, -0.1738, -1.751, 0.4714, 2.6297, 2.9665, 7.0861, 0.8355, -2.8678, -0.207, -6.8979, 3.5644, -0.5681, -1.6911, -0.2303, 5.6019, -1.5934, 5.162, -35.2812, 14.2449, -4.6282, -13.5115, 22.1224, -0.5034, 1.9508, 1.0281, -0.9121, 12.7824, -5.4385, -13.756, -12.2736, -32.86, -5.6004, 15.0059, 3.6683, 33.0709, -16.0772, 4.3354, 9.273, -0.4148, -28.3177, 2.5254, -28.0624, 4.9827, -2.5002, 1.3631, 2.8605, -4.7402, -0.0003, 0.7456, 0.0303, 0.787, -1.8846, 0.6524, 2.2699, 1.265, 5.3528, 0.6504, -2.7732, 0.4124, -5.9993, 1.6346, -0.6209, -1.0836, -0.6319, 5.0424, -0.4739, 5.4044, 5.6876, -2.0653, 0.449, 1.8836, -3.7621, -0.2061, -1.4619, -0.5377, -0.7165, -2.3306, 0.889, 2.274, 0.9085, 3.9942, 0.5075, -0.9809, -0.7568, -5.2485, 3.4751, -0.1131, -1.9198, 0.3237, 4.0884, -0.0557, 3.4652, -7.0376, 1.8744, -0.7068, -1.8968, 3.6862, -0.3011, 0.3835, 0.3784, -0.4297, 1.9126, -1.3126, -2.2747, -1.7269, -5.3351, -1.5133, 2.25, 0.487, 6.1787, -3.4707, 0.7064, 2.9814, -0.2867, -6.0171, 0.1295, -5.5805, 2.0516, -0.4093, 2.5526, 2.888, -7.425, 0.0057, -0.2481, -0.2247, 1.4031, 0.2354, 0.8269, 0.9577, 0.7368, 1.6004, -1.2687, 3.0715, 0.9761, -13.978, 3.1395, 0.1708, 1.0767, -2.2181, -0.21, -3.1735, 2.0888, -6.8169, -0.1914, 1.8669, -9.8572, -31.2581, -19.1883, -24.2963, 5.4906, 9.2391, -15.6179, -1.2102, 10.3168, 1.3251, -8.9932, 30.5867, -16.2052, -27.2097, -2.5867, -0.8877, -15.951, 4.0861, 16.5184, -0.1374, 12.2113, -6.3108, 1.7564, 0.0787, -0.0146, 0.4767, 1.9441, 0.2351, 3.03, -0.2186, -0.8481, 1.0525, -0.371, 0.0257, 0.2924, 0.1197, -1.8655, 0.922, 1.4849, 0.2267, 0.558, 0.8697, -1.5346, -0.8126, -0.3171, -0.7445, 0.197, 6.6545, 0.6729, -1.247, 3.7417, 13.5166, 5.051, 16.4561, -1.4176, -4.6077, 8.2963, -0.5651, -4.2535, 1.0084, 2.2602, -12.3006, 7.7675, 12.8524, 0.5026, 0.6235, 6.3696, -4.9875, -5.7218, -0.9186, -4.0444, 3.4039, 6.5061, 0.1129, -0.9125, 3.7693, 14.2466, 5.5786, 15.9989, -2.0217, -4.4133, 8.4924, -0.2069, -4.7818, 1.041, 2.7865, -13.8181, 8.0561, 13.1245, 0.3365, 0.5678, 7.317, -5.0986, -5.9988, -0.5664, -4.4363, 3.6941, -2.3952, -0.6451, 0.8066, -4.1627, -11.9249, -7.6211, -9.5386, 2.5307, 3.2606, -6.1745, -0.7725, 3.9767, 0.1218, -3.9203, 11.6526, -6.7245, -10.7785, -1.0424, -0.1564, -6.5389, 1.8497, 6.4844, 0.389, 4.9687, -2.689, 0.222, -0.3338, 0.8933, -2.9375, -6.4785, -5.573, -3.019, 1.6454, 1.3682, -3.261, -0.8731, 2.5072, 0.6361, -3.429, 6.808, -3.613, -5.569, -1.3446, -0.3442, -3.0554, -0.2411, 4.0271, -0.4831, 3.4731, -1.4429, 12.9629, 1.4935, -2.9747, 12.6274, 40.6307, 20.7442, 39.0592, -6.0686, -11.9709, 21.2301, 0.4039, -13.4239, -0.3703, 10.2138, -38.943, 22.7061, 36.6047, 2.126, 1.6109, 20.949, -8.9412, -19.2638, -0.3542, -14.9206, 8.9099, 2.1449, 0.4163, -0.3752, 0.4504, 2.5833, 0.5864, 4.1659, 0.041, -0.9972, 1.7261, -0.262, -0.5734, 0.7513, 0.2127, -2.5221, 1.3728, 3.0658, -0.1169, 0.196, 1.6, -1.6553, -0.8687, -0.6005, -0.8592, 0.437, 3.4574, 0.0713, -0.1582, 1.1669, 4.7281, -0.0717, 8.041, -0.9187, -1.4711, 3.0654, 0.0649, -1.7279, 0.7461, 0.4314, -4.3356, 3.083, 5.6469, -0.1627, 0.3095, 2.4808, -2.5263, -1.3347, 0.0921, -1.3636, 1.7814, 1.8268, 0.5057, -0.1205, -0.6812, 0.0207, -1.9927, 1.8506, 0.5008, 0.3468, 0.2377, -0.4587, 0.0054, 0.9993, -1.2484, 0.4151, 0.469, 0.6863, -0.2911, 0.3919, -0.762, -1.8373, 1.6965, 0.0317, 0.9585, 0.0208, -2.8202, 0.0254, 0.8032, -4.2655, -13.8533, -8.5559, -10.6908, 1.8394, 3.7055, -6.751, -0.1831, 3.8724, 0.3644, -4.2337, 13.784, -7.2586, -11.5319, -0.6887, -0.04, -7.4254, 1.6852, 7.3211, -0.3197, 5.0985, -2.7495, 0.8607, 0.0099, -0.0561, -1.0421, -1.2391, -3.1497, 1.4321, 0.6394, 0.591, 0.0755, -0.1803, 0.6191, 0.3667, -1.2169, 2.0497, -0.6162, -1.3449, -0.8866, 0.0473, -1.511, -0.7444, 1.5454, -0.4983, 0.744, -0.496, 1.6838, 0.2533, 0.4237, -1.1107, -0.6719, -3.2895, 3.4941, 0.4407, 0.0448, 0.2287, -0.0034, -0.5451, 0.6693, -1.4753, 1.7788, 0.1996, 0.7535, -0.7649, 0.2614, -0.8323, -1.5839, 1.5578, 0.1714, 1.282, -0.208, 2.0718, 0.5489, -0.2654, -0.4726, -0.9478, -3.1309, 3.3223, 0.2489, 0.544, 0.5576, -0.3231, 0.0887, 1.2297, -1.195, 1.3986, 0.2019, 0.2692, -0.8141, -0.2861, -0.5565, -2.3321, 1.2084, -0.6982, 0.5471, 0.597, 0.4367, -0.2367, 0.4856, -1.0785, -3.0123, -3.3582, 0.3722, 0.872, 0.7337, -1.0575, 0.0095, 0.0501, 0.7707, -1.7354, 2.7176, -0.5979, -1.5837, -0.4705, -0.2141, -2.064, -1.0888, 2.3117, -0.3162, 1.5598, -0.6242, -3.8065, -0.3824, 1.4537, -8.1164, -21.9089, -14.365, -16.5436, 3.9168, 6.5778, -10.9459, -1.5041, 7.3119, 1.2154, -7.3714, 21.7046, -12.1924, -18.7284, -2.1765, -0.8178, -11.4771, 2.3023, 12.3571, 0.3427, 9.5949, -4.4947, 3.9638, 0.0803, -0.698, 2.2692, 7.8924, 2.3491, 10.063, -0.276, -2.6947, 4.7787, -0.4273, -1.4531, 1.0814, 0.3343, -7.7065, 4.3134, 7.0221, -0.1678, 0.9272, 4.6466, -2.6133, -2.7198, -0.2872, -2.099, 1.8058, 9.109, 0.3085, -1.7339, 7.0864, 24.6203, 10.7737, 25.2566, -3.0119, -7.9727, 13.3042, 0.3809, -7.3523, 0.5516, 5.2704, -23.0779, 14.2504, 22.3401, 0.4793, 1.2417, 13.1692, -6.8969, -10.9193, -0.8731, -8.9044, 4.9048, -6.9724, -1.0355, 2.0072, -9.8327, -31.0641, -18.428, -25.1205, 4.8131, 8.8652, -15.8724, -1.1018, 9.0792, 1.0109, -8.5922, 30.1453, -16.9153, -26.5327, -1.6784, -0.7371, -16.4306, 4.2844, 15.6979, 0.3147, 11.7193, -6.6214, 3.64, -0.2144, -0.8548, 2.3852, 7.9243, 1.8167, 9.6352, -0.6566, -2.7298, 4.3436, -0.4254, -3.0969, 0.7295, 1.4114, -7.3397, 4.9125, 7.2009, -0.0579, 0.4041, 3.4751, -3.7956, -2.2874, -0.7359, -2.1166, 2.2748, 8.7331, 0.1383, -2.3213, 7.7464, 26.4688, 13.0267, 25.5089, -3.5819, -8.4765, 13.7986, 0.1493, -8.3099, 0.2721, 5.908, -25.4849, 14.9698, 23.6005, 1.1097, 0.8708, 13.6931, -6.0413, -12.5124, -0.7016, -9.0951, 5.5813, -6.1945, -0.4923, 1.9623, -8.4847, -26.0833, -15.5942, -21.5403, 3.9617, 7.6084, -13.42, -0.5002, 8.623, 0.4559, -8.2686, 25.5498, -14.1334, -22.9585, -1.9281, -1.0572, -13.5264, 3.6913, 13.569, -0.1107, 9.9374, -5.0842, -0.5636, -0.3934, 0.4603, -2.7643, -8.1677, -6.5822, -3.7097, 1.7335, 2.1886, -3.6778, -0.5824, 2.6031, 1.2367, -3.123, 7.7753, -3.7201, -6.2691, -1.1561, -0.0781, -4.3211, -0.6136, 4.8022, -0.5915, 3.8366, -2.1557, -6.5055, -0.8491, 1.9522, -7.5866, -24.3341, -14.6517, -20.8432, 4.2136, 6.8589, -12.0217, -0.3184, 7.5628, 0.6798, -7.1737, 24.3254, -13.5676, -21.148, -1.48, -1.2999, -12.547, 3.8676, 12.2463, -0.1184, 9.4217, -5.3556, 2.9188, -0.2084, -0.4956, -0.1912, 0.3761, -2.9169, 4.6444, 0.6336, -1.1599, 0.78, -0.584, 0.1564, 1.2273, -1.2789, -0.1877, 0.792, 0.7482, -1.1337, 0.4778, 0.0163, -1.7279, 0.9136, -0.6775, 0.21, 0.7485, 2.6881, 0.4579, 0.2017, -1.707, -3.3202, -5.5133, 2.6656, 0.8057, -0.0603, 0.0941, -1.3665, 1.5647, 1.0989, -2.4471, 3.3036, -0.7932, -1.4389, -1.5534, 0.408, -1.8648, -2.9858, 3.7438, -0.8303, 2.1806, -0.269, -7.0213, -13.4274, -5.3926, -1.6738, -0.5951, -0.2214, -2.1067, -1.8167, 6.747, -2.826, 4.0474, -2.842, 4.4193, -0.2992, 0.4293, -1.5216, -1.3802, -0.4799, 2.3446, -0.7381, 6.4471, 7.2981, 7.357, 0.3773, 0.94, -1.4966, 0.0906, 0.1637, -2.3671, 0.8669, -4.996, -24.6078, -8.014, -3.9885, -1.8633, -0.5063, -3.825, -2.4136, 12.869, -4.9492, -12.2045, -31.6845, -14.582, -4.9088, -2.7935, -0.175, -3.6989, -3.457, 16.1227, -6.9346, -17.9782, -45.0094, -22.1365, -6.0249, -4.7053, 1.8032, -4.6005, -4.9443, 22.5704, -9.7047, -10.0938, -21.4773, -7.9207, -3.2632, 0.5389, -0.7709, -3.2074, -2.854, 10.262, -4.51, -13.4969, -36.2426, -14.4547, -5.2537, -3.6428, 0.1803, -4.6398, -4.4467, 18.6848, -7.9821, 12.5896, 1.285, 12.7277, -0.2777, 0.6939, -2.1814, -1.871, -0.6728, 1.2442, -0.4759, -0.9952, -6.7617, -2.7347, -0.7051, -0.4249, -0.1099, -1.5196, -0.8998, 3.3792, -1.8535, -0.2404, -16.7687, -4.0323, -3.0127, -1.9271, -0.8109, -2.8839, -2.2967, 9.1804, -3.7776, -29.1066, -54.7254, -29.4584, -7.7328, -5.8167, 2.0128, -5.5898, -5.4918, 26.5367, -11.2892, -3.0432, -19.3538, -3.1157, -2.84, -1.1933, -1.343, -3.299, -2.238, 10.0819, -4.2349, 35.0149, 42.6999, 33.194, 5.1907, 5.5282, -3.8964, 2.3539, 3.8424, -18.6021, 8.9666, 14.8396, 10.9375, 15.0874, 1.3647, 2.1498, -2.24, -0.9752, 0.6314, -4.2593, 1.9798, 3.9138, -1.9039, 2.315, -0.691, -0.1485, -0.8574, -1.2423, -0.4921, 1.625, -0.8798, 8.1929, -4.6687, 4.4639, -1.2786, 0.3698, -1.2905, -1.7729, -0.9208, 3.9803, -1.602, 17.1082, 21.7943, 16.9616, 2.3593, 3.1997, -1.9327, 1.3853, 1.9725, -9.0071, 4.1184, 1.8426, -18.1195, -0.2457, -3.1002, -1.1865, -1.8961, -3.8948, -1.909, 10.6419, -3.7549, -10.0097, -28.2882, -12.8318, -4.3267, -2.3424, 0.4673, -3.5776, -2.9521, 14.4021, -6.1604, -28.1805, -51.7162, -30.6123, -6.8822, -6.1038, 3.5876, -4.5515, -5.0298, 24.0699, -10.6069, 15.4598, 18.0072, 18.1204, 2.4632, 3.0389, -3.0779, -0.4048, 0.9147, -6.758, 3.3754, -1.0546, -6.0484, -2.0727, -0.7805, -0.3432, -0.2213, -0.7529, -0.2944, 2.8411, -1.3298, -6.4971, -25.155, -7.3748, -3.3346, -1.5955, -0.8415, -4.1379, -3.2558, 12.9505, -5.7017, 7.3618, 5.2183, 6.8536, 0.5199, 1.3161, -1.3047, -0.7336, 0.3802, -2.0956, 0.5569, 19.731, 3.9808, 17.66, -0.3541, 2.3132, -4.2949, -2.667, -0.2673, 0.7763, 0.2418, 50.0855, -49.7838, 21.5811, -22.066, -24.7987, 24.0833, 0.1438, -1.1701, -18.2353, 18.1307, 43.5868, -42.9597, 41.004, -40.7017, 25.96, -26.2907, -8.6459, 9.0343, 8.187, -7.3696, -8.4113, 8.5608])"
      ]
     },
     "execution_count": 97,
     "metadata": {},
     "output_type": "execute_result"
    }
   ],
   "source": [
    "# display the network weights\n",
    "mlp_model = model.stages[2].weights\n",
    "mlp_model"
   ]
  },
  {
   "cell_type": "markdown",
   "metadata": {},
   "source": [
    "### Tuning Random Forest classifier"
   ]
  },
  {
   "cell_type": "code",
   "execution_count": 98,
   "metadata": {},
   "outputs": [],
   "source": [
    "# build the parameters grid\n",
    "rf_paramGrid = ParamGridBuilder() \\\n",
    "    .addGrid(rf.impurity, ['gini', 'entropy']) \\\n",
    "    .addGrid(rf.maxDepth, [5, 15, 30]) \\\n",
    "    .addGrid(rf.numTrees, [20, 50, 100]) \\\n",
    "    .build()"
   ]
  },
  {
   "cell_type": "code",
   "execution_count": 99,
   "metadata": {},
   "outputs": [
    {
     "data": {
      "text/plain": [
       "[0.6349788011906644,\n",
       " 0.6467920726694636,\n",
       " 0.6337747658402876,\n",
       " 0.6349788011906644,\n",
       " 0.6421184709809367,\n",
       " 0.6434998063872015,\n",
       " 0.6349788011906644,\n",
       " 0.6421184709809367,\n",
       " 0.6434998063872015,\n",
       " 0.6624954327279295,\n",
       " 0.6297090795937246,\n",
       " 0.6467920726694636,\n",
       " 0.6624954327279295,\n",
       " 0.6254421398429139,\n",
       " 0.6373010661635318,\n",
       " 0.6624954327279295,\n",
       " 0.6254421398429139,\n",
       " 0.6373010661635318]"
      ]
     },
     "execution_count": 99,
     "metadata": {},
     "output_type": "execute_result"
    }
   ],
   "source": [
    "# create the cross validator\n",
    "rf_crossval = CrossValidator(estimator=rf_pipeline,\n",
    "                          estimatorParamMaps=rf_paramGrid,\n",
    "                          evaluator=MulticlassClassificationEvaluator(labelCol=\"churn\", predictionCol=\"prediction\", metricName=\"f1\"),\n",
    "                          numFolds=3)\n",
    "\n",
    "# run the models\n",
    "rf_cvModel = rf_crossval.fit(train)\n",
    "rf_cvModel.avgMetrics"
   ]
  },
  {
   "cell_type": "code",
   "execution_count": 100,
   "metadata": {},
   "outputs": [
    {
     "data": {
      "text/plain": [
       "0.6624954327279295"
      ]
     },
     "execution_count": 100,
     "metadata": {},
     "output_type": "execute_result"
    }
   ],
   "source": [
    "rf_tuned_score = max(rf_cvModel.avgMetrics)\n",
    "rf_tuned_score"
   ]
  },
  {
   "cell_type": "code",
   "execution_count": 101,
   "metadata": {},
   "outputs": [
    {
     "name": "stdout",
     "output_type": "stream",
     "text": [
      "accuracy:  0.8367346938775511\n"
     ]
    }
   ],
   "source": [
    "# compute predictions using the tuned model\n",
    "preds = rf_cvModel.transform(test)\n",
    "\n",
    "# compute the accuracy on the test set\n",
    "rf_tuned_accuracy = preds.filter(preds.churn == preds.prediction).count() / preds.count()\n",
    "print(\"accuracy: \", rf_tuned_accuracy)"
   ]
  },
  {
   "cell_type": "code",
   "execution_count": 102,
   "metadata": {},
   "outputs": [
    {
     "data": {
      "text/plain": [
       "{Param(parent='RandomForestClassifier_711b4b6496db', name='cacheNodeIds', doc='If false, the algorithm will pass trees to executors to match instances with nodes. If true, the algorithm will cache node IDs for each instance. Caching can speed up training of deeper trees.'): False,\n",
       " Param(parent='RandomForestClassifier_711b4b6496db', name='checkpointInterval', doc='set checkpoint interval (>= 1) or disable checkpoint (-1). E.g. 10 means that the cache will get checkpointed every 10 iterations. Note: this setting will be ignored if the checkpoint directory is not set in the SparkContext'): 10,\n",
       " Param(parent='RandomForestClassifier_711b4b6496db', name='featureSubsetStrategy', doc='The number of features to consider for splits at each tree node. Supported options: auto, all, onethird, sqrt, log2, (0.0-1.0], [1-n].'): 'auto',\n",
       " Param(parent='RandomForestClassifier_711b4b6496db', name='featuresCol', doc='features column name'): 'scaled_features',\n",
       " Param(parent='RandomForestClassifier_711b4b6496db', name='impurity', doc='Criterion used for information gain calculation (case-insensitive). Supported options: entropy, gini'): 'entropy',\n",
       " Param(parent='RandomForestClassifier_711b4b6496db', name='labelCol', doc='label column name'): 'churn',\n",
       " Param(parent='RandomForestClassifier_711b4b6496db', name='maxBins', doc='Max number of bins for discretizing continuous features.  Must be >=2 and >= number of categories for any categorical feature.'): 32,\n",
       " Param(parent='RandomForestClassifier_711b4b6496db', name='maxDepth', doc='Maximum depth of the tree. (>= 0) E.g., depth 0 means 1 leaf node; depth 1 means 1 internal node + 2 leaf nodes.'): 5,\n",
       " Param(parent='RandomForestClassifier_711b4b6496db', name='maxMemoryInMB', doc='Maximum memory in MB allocated to histogram aggregation.'): 256,\n",
       " Param(parent='RandomForestClassifier_711b4b6496db', name='minInfoGain', doc='Minimum information gain for a split to be considered at a tree node.'): 0.0,\n",
       " Param(parent='RandomForestClassifier_711b4b6496db', name='minInstancesPerNode', doc='Minimum number of instances each child must have after split.  If a split causes the left or right child to have fewer than minInstancesPerNode, the split will be discarded as invalid. Should be >= 1.'): 1,\n",
       " Param(parent='RandomForestClassifier_711b4b6496db', name='numTrees', doc='Number of trees to train (>= 1)'): 20,\n",
       " Param(parent='RandomForestClassifier_711b4b6496db', name='predictionCol', doc='prediction column name'): 'prediction',\n",
       " Param(parent='RandomForestClassifier_711b4b6496db', name='probabilityCol', doc='Column name for predicted class conditional probabilities. Note: Not all models output well-calibrated probability estimates! These probabilities should be treated as confidences, not precise probabilities'): 'probability',\n",
       " Param(parent='RandomForestClassifier_711b4b6496db', name='rawPredictionCol', doc='raw prediction (a.k.a. confidence) column name'): 'rawPrediction',\n",
       " Param(parent='RandomForestClassifier_711b4b6496db', name='seed', doc='random seed'): 1234,\n",
       " Param(parent='RandomForestClassifier_711b4b6496db', name='subsamplingRate', doc='Fraction of the training data used for learning each decision tree, in range (0, 1].'): 1.0}"
      ]
     },
     "execution_count": 102,
     "metadata": {},
     "output_type": "execute_result"
    }
   ],
   "source": [
    "# show details about the best model from the tuning\n",
    "bestPipeline = rf_cvModel.bestModel\n",
    "bestRFModel = bestPipeline.stages[2]\n",
    "bestRFModel.extractParamMap()"
   ]
  },
  {
   "cell_type": "markdown",
   "metadata": {},
   "source": [
    "### Tuning Multilayer perceptron classifier"
   ]
  },
  {
   "cell_type": "code",
   "execution_count": 103,
   "metadata": {},
   "outputs": [],
   "source": [
    "# build the parameters grid. In our case we will only adjust the layers to assess impact, and select the best model.\n",
    "mlp_paramGrid = ParamGridBuilder() \\\n",
    "    .addGrid(mlp.layers, [[13, 25, 10, 2], \n",
    "                          [13, 25, 25, 10, 2],\n",
    "                          [13, 25, 25, 25, 10, 2], \n",
    "                          [13, 40, 80, 60, 20, 8, 2]]) \\\n",
    "    .build()"
   ]
  },
  {
   "cell_type": "code",
   "execution_count": 104,
   "metadata": {},
   "outputs": [
    {
     "data": {
      "text/plain": [
       "[0.6844795201006595,\n",
       " 0.6352535170797429,\n",
       " 0.6673223468336211,\n",
       " 0.6550168860569197]"
      ]
     },
     "execution_count": 104,
     "metadata": {},
     "output_type": "execute_result"
    }
   ],
   "source": [
    "# create the cross validator\n",
    "mlp_crossval = CrossValidator(estimator=mlp_pipeline,\n",
    "                          estimatorParamMaps=mlp_paramGrid,\n",
    "                          evaluator=MulticlassClassificationEvaluator(labelCol=\"churn\", predictionCol=\"prediction\", metricName=\"f1\"),\n",
    "                          numFolds=3)\n",
    "\n",
    "# run the models\n",
    "mlp_cvModel = mlp_crossval.fit(train)\n",
    "mlp_cvModel.avgMetrics"
   ]
  },
  {
   "cell_type": "code",
   "execution_count": 105,
   "metadata": {},
   "outputs": [
    {
     "data": {
      "text/plain": [
       "0.6844795201006595"
      ]
     },
     "execution_count": 105,
     "metadata": {},
     "output_type": "execute_result"
    }
   ],
   "source": [
    "mlp_tuned_score = max(mlp_cvModel.avgMetrics)\n",
    "mlp_tuned_score"
   ]
  },
  {
   "cell_type": "code",
   "execution_count": 106,
   "metadata": {},
   "outputs": [
    {
     "name": "stdout",
     "output_type": "stream",
     "text": [
      "accuracy:  0.7959183673469388\n"
     ]
    }
   ],
   "source": [
    "# compute predictions using the tuned model\n",
    "preds = mlp_cvModel.transform(test)\n",
    "\n",
    "# compute the accuracy on the test set\n",
    "mlp_tuned_accuracy = accuracy = preds.filter(preds.churn == preds.prediction).count() / preds.count()\n",
    "print(\"accuracy: \", mlp_tuned_accuracy)"
   ]
  },
  {
   "cell_type": "code",
   "execution_count": 107,
   "metadata": {},
   "outputs": [
    {
     "data": {
      "text/plain": [
       "[13, 25, 10, 2]"
      ]
     },
     "execution_count": 107,
     "metadata": {},
     "output_type": "execute_result"
    }
   ],
   "source": [
    "# show details about the best model from the tuning\n",
    "bestPipeline = mlp_cvModel.bestModel\n",
    "bestMLPModel = bestPipeline.stages[2]\n",
    "bestMLPModel.layers"
   ]
  },
  {
   "cell_type": "code",
   "execution_count": 108,
   "metadata": {
    "scrolled": true
   },
   "outputs": [
    {
     "data": {
      "image/png": "[encoded data removed]",
      "text/plain": [
       "<Figure size 720x432 with 1 Axes>"
      ]
     },
     "metadata": {
      "needs_background": "light"
     },
     "output_type": "display_data"
    }
   ],
   "source": [
    "# display a summary of all the models performance\n",
    "summary = [[rf_score, rf_accuracy], \\\n",
    "           [lr_score, lr_accuracy], \\\n",
    "           [gbt_score, gbt_accuracy], \\\n",
    "           [mlp_score, mlp_accuracy], \\\n",
    "           [rf_tuned_score, rf_tuned_accuracy], \\\n",
    "           [mlp_tuned_score, mlp_tuned_accuracy]]\n",
    "\n",
    "summary_df = pd.DataFrame(summary, columns=['score','accuracy'], \\\n",
    "                          index=['random forest', 'logisitic regression', 'gradient boosted trees', 'multilayer perceptron', 'random forest (tuned)', 'multilayer perceptron (tuned)'])\n",
    "\n",
    "import numpy as np\n",
    "y = np.arange(len(summary_df.index))\n",
    "height = 0.4\n",
    "fig, ax = plt.subplots(figsize=(10,6))\n",
    "plt_score = ax.barh(y - height/2, summary_df.score, height, label='score')\n",
    "plt_accuracy = ax.barh(y + height/2, summary_df.accuracy, height, label='accuracy')\n",
    "ax.set_ylabel('algorithm')\n",
    "ax.set_yticks(y)\n",
    "ax.set_yticklabels(summary_df.index)\n",
    "ax.legend(loc=\"lower left\");"
   ]
  },
  {
   "cell_type": "markdown",
   "metadata": {},
   "source": [
    "**The best model after tuning in our situation is the Multilayer Perceptron classifier, which got a higher F1 score. We are now evaluating its accuracy on the validation dataset.**"
   ]
  },
  {
   "cell_type": "code",
   "execution_count": 109,
   "metadata": {},
   "outputs": [
    {
     "name": "stdout",
     "output_type": "stream",
     "text": [
      "accuracy:  0.7735849056603774\n"
     ]
    }
   ],
   "source": [
    "# compute predictions using the tuned model\n",
    "preds = mlp_cvModel.transform(valid)\n",
    "\n",
    "# compute the accuracy on the validation set\n",
    "accuracy = preds.filter(preds.churn == preds.prediction).count() / preds.count()\n",
    "print(\"accuracy: \", accuracy)"
   ]
  },
  {
   "cell_type": "code",
   "execution_count": 110,
   "metadata": {},
   "outputs": [
    {
     "name": "stdout",
     "output_type": "stream",
     "text": [
      "number of non-churn users:  41\n",
      "total number of users:  53\n"
     ]
    }
   ],
   "source": [
    "# check number of churn vs. non-churn users in the validation set\n",
    "print(\"number of non-churn users: \", preds[preds.churn == 0].count())\n",
    "print(\"total number of users: \", preds.count())"
   ]
  },
  {
   "cell_type": "markdown",
   "metadata": {},
   "source": [
    "# Conclusion:\n",
    "\n",
    "**After running the best model on the validation data, we managed to achieve an accuracy of 79.2%. This results is quite good, based on the small size of our dataset, and the relative small portion of churn users in the dataset. That latter point is also the reason why we optimised the model on the F1 metric, as otherwise a dumb model which would only output zero as a prediction would still be able to get a high accuracy even though it would not generate any real positive, but would generate a lot of false negatives instead. In theory this dumb classifier would get a 77.3% on the validation set : 41 (=non-churn users) / 53 (=total number of users). The successful model is the Multilayer Perceptron classifier. I could not manage to get to a higher accuracy by tuning the model.**"
   ]
  },
  {
   "cell_type": "code",
   "execution_count": null,
   "metadata": {},
   "outputs": [],
   "source": []
  }
 ],
 "metadata": {
  "kernelspec": {
   "display_name": "Python 3",
   "language": "python",
   "name": "python3"
  },
  "language_info": {
   "codemirror_mode": {
    "name": "ipython",
    "version": 3
   },
   "file_extension": ".py",
   "mimetype": "text/x-python",
   "name": "python",
   "nbconvert_exporter": "python",
   "pygments_lexer": "ipython3",
   "version": "3.7.10"
  }
 },
 "nbformat": 4,
 "nbformat_minor": 2
}
